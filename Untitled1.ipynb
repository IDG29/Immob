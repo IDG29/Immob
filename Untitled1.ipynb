{
 "cells": [
  {
   "cell_type": "code",
   "execution_count": 1,
   "id": "054a7a0a-7ac4-49f0-a3cc-816c741e1ca3",
   "metadata": {},
   "outputs": [],
   "source": [
    "from Bio.PDB import PDBParser\n",
    "import os"
   ]
  },
  {
   "cell_type": "code",
   "execution_count": 38,
   "id": "8dd57c7e-0fc4-415c-8531-ce3284d08e79",
   "metadata": {},
   "outputs": [],
   "source": [
    "parser = PDBParser(QUIET=True)"
   ]
  },
  {
   "cell_type": "code",
   "execution_count": 39,
   "id": "80c11784-edac-4ef1-ae85-1d42883aa233",
   "metadata": {},
   "outputs": [],
   "source": [
    "dir_path = \"trimmed_models/\""
   ]
  },
  {
   "cell_type": "code",
   "execution_count": 53,
   "id": "74d187a2-faa3-41f7-ae75-5b148d2a1642",
   "metadata": {},
   "outputs": [
    {
     "name": "stdout",
     "output_type": "stream",
     "text": [
      "GPX_Gossypium-hirsutum.pdb tiene 2514 atomos y 2514 bfactors.\n",
      "GPX_Staphylococcus-aureus.pdb tiene 2537 atomos y 2537 bfactors.\n",
      "GPX_Neisseria-meningitidis.pdb tiene 2801 atomos y 2801 bfactors.\n",
      "GPX_Lactococcus-lactis.pdb tiene 2515 atomos y 2515 bfactors.\n",
      "GPX_Bacillus-subtilis.pdb tiene 2546 atomos y 2546 bfactors.\n"
     ]
    }
   ],
   "source": [
    "n=1\n",
    "n_atoms = 0\n",
    "n_bfactor = 0\n",
    "for model in os.listdir(dir_path):\n",
    "    if model.startswith(\"GPX\"):\n",
    "        file_path = os.path.join(dir_path, model)\n",
    "        structure = parser.get_structure(id=model, file=file_path)\n",
    "        modelo = structure[0]\n",
    "        for chain in modelo:\n",
    "            for residue in chain:\n",
    "                for atom in residue:\n",
    "                    n_atoms=n_atoms+1\n",
    "                    bfact= atom.get_bfactor()\n",
    "                    if isinstance(bfact, float):\n",
    "                        n_bfactor += 1\n",
    "                \n",
    "        print(f\"{model} tiene {n_atoms} atomos y {n_bfactor} bfactors.\")\n",
    "        \n",
    "        n_atoms = 0\n",
    "        n_bfactor = 0\n",
    "        "
   ]
  },
  {
   "cell_type": "code",
   "execution_count": null,
   "id": "d11e29cd-8528-46b0-96ff-5130b044898a",
   "metadata": {},
   "outputs": [],
   "source": []
  }
 ],
 "metadata": {
  "kernelspec": {
   "display_name": "Python 3 (ipykernel)",
   "language": "python",
   "name": "python3"
  },
  "language_info": {
   "codemirror_mode": {
    "name": "ipython",
    "version": 3
   },
   "file_extension": ".py",
   "mimetype": "text/x-python",
   "name": "python",
   "nbconvert_exporter": "python",
   "pygments_lexer": "ipython3",
   "version": "3.10.15"
  }
 },
 "nbformat": 4,
 "nbformat_minor": 5
}
