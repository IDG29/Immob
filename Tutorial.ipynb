{
 "cells": [
  {
   "cell_type": "code",
   "execution_count": 1,
   "id": "e5ebb2dd-2aec-4775-ba0f-17a3a108420e",
   "metadata": {},
   "outputs": [],
   "source": [
    "import prepare_proteins\n",
    "import bsc_calculations\n",
    "import os\n",
    "import shutil"
   ]
  },
  {
   "cell_type": "markdown",
   "id": "d476157b-a26c-4a54-97c2-fdbd2dce270d",
   "metadata": {},
   "source": [
    "#### Crear carpeta para modelos PDB y renombrarlos"
   ]
  },
  {
   "cell_type": "code",
   "execution_count": 2,
   "id": "12299669-15cc-4e02-b299-f7f534f9e60b",
   "metadata": {},
   "outputs": [],
   "source": [
    "if not os.path.exists(\"structures\"):\n",
    "    os.mkdir(\"structures\")\n",
    "rank = 0 \n",
    "for model in os.listdir(\"AF_structures/alphafold/output_models/\"):\n",
    "    if os.path.exists(\"AF_structures/alphafold/output_models/\"+model+\"/ranked_\"+str(rank)+\".pdb\"):\n",
    "        shutil.copyfile(\"AF_structures/alphafold/output_models/\"+model+\"/ranked_\"+str(rank)+\".pdb\", \"structures/\"+model+\".pdb\") #Al hacer esto, no puedo tener múltiples \n",
    "                                                                                                    #modelos de una misma proteina¿? Los sobreescribo¿?"
   ]
  },
  {
   "cell_type": "markdown",
   "id": "31753d32-75fb-4ab9-bd7a-152a9b861389",
   "metadata": {},
   "source": [
    "#### Preparar las proteínas"
   ]
  },
  {
   "cell_type": "code",
   "execution_count": 3,
   "id": "d508a6bf-8a82-49c4-9e2c-040256c8153d",
   "metadata": {},
   "outputs": [
    {
     "name": "stdout",
     "output_type": "stream",
     "text": [
      "<Structure id=GPX_Bacillus-subtilis>\n",
      "<Structure id=GPX_Gossypium-hirsutum>\n",
      "<Structure id=GPX_Lactococcus-lactis>\n",
      "<Structure id=GPX_Neisseria-meningitidis>\n",
      "<Structure id=GPX_Staphylococcus-aureus>\n"
     ]
    }
   ],
   "source": [
    "#La clase proteinModels lee los PDB mediante BioPython como Bio.PDB.Structures. Se obtiene un atributo \"structures\" que se trata de un \n",
    "#diccionario donde --> Key = nombre modelo y Value = Bio.PDB.Object \n",
    "models = prepare_proteins.proteinModels(\"structures\")\n",
    "\n",
    "#Iteramos en el diccionario para obtener el nombre de las estructuras.\n",
    "for model in models:\n",
    "    print(models.structures[model])"
   ]
  },
  {
   "cell_type": "code",
   "execution_count": 12,
   "id": "3f93d3a9-f80d-4aae-b1fd-95fe107f2eb2",
   "metadata": {},
   "outputs": [],
   "source": [
    "#La librería prepare_proteins tiene un metodo para eliminar elementos random terminales de las estructuras de AF usando un confidence score \n",
    "#almacenado en la columna donde generalmente se almacena el B-factor del archivo PDB.\n",
    "\n",
    "models.removeTerminiByConfidenceScore(confidence_threshold=90)"
   ]
  },
  {
   "cell_type": "code",
   "execution_count": 16,
   "id": "1ca13bef-a76a-4b13-8c9b-dd934de1d02c",
   "metadata": {},
   "outputs": [
    {
     "name": "stderr",
     "output_type": "stream",
     "text": [
      "/home/idg29/anaconda3/envs/BSC/lib/python3.10/site-packages/Bio/PDB/PDBParser.py:395: PDBConstructionWarning: Ignoring unrecognized record 'END' at line 2548\n",
      "  warnings.warn(\n",
      "/home/idg29/anaconda3/envs/BSC/lib/python3.10/site-packages/Bio/PDB/PDBParser.py:395: PDBConstructionWarning: Ignoring unrecognized record 'END' at line 2516\n",
      "  warnings.warn(\n",
      "/home/idg29/anaconda3/envs/BSC/lib/python3.10/site-packages/Bio/PDB/PDBParser.py:395: PDBConstructionWarning: Ignoring unrecognized record 'END' at line 2517\n",
      "  warnings.warn(\n",
      "/home/idg29/anaconda3/envs/BSC/lib/python3.10/site-packages/Bio/PDB/PDBParser.py:395: PDBConstructionWarning: Ignoring unrecognized record 'END' at line 2803\n",
      "  warnings.warn(\n",
      "/home/idg29/anaconda3/envs/BSC/lib/python3.10/site-packages/Bio/PDB/PDBParser.py:395: PDBConstructionWarning: Ignoring unrecognized record 'END' at line 2539\n",
      "  warnings.warn(\n"
     ]
    }
   ],
   "source": [
    "#El metodo saveModels guarda los nuevos modelos en una carpeta la cual se especifica su nuevo nombre. \n",
    "models.saveModels(\"trimmed_models\")\n",
    "models = prepare_proteins.proteinModels('trimmed_models/')"
   ]
  },
  {
   "cell_type": "markdown",
   "id": "b9f0f22f-3530-4159-9b27-10ba0e68c0f3",
   "metadata": {},
   "source": [
    "### Alinear estructuras con una referencia "
   ]
  },
  {
   "cell_type": "code",
   "execution_count": 17,
   "id": "8b9906d9-173a-451d-aab0-59219166329e",
   "metadata": {},
   "outputs": [
    {
     "name": "stderr",
     "output_type": "stream",
     "text": [
      "/home/idg29/anaconda3/envs/BSC/lib/python3.10/site-packages/Bio/PDB/PDBParser.py:395: PDBConstructionWarning: Ignoring unrecognized record 'END' at line 2550\n",
      "  warnings.warn(\n",
      "/home/idg29/anaconda3/envs/BSC/lib/python3.10/site-packages/Bio/PDB/PDBParser.py:395: PDBConstructionWarning: Ignoring unrecognized record 'END' at line 2518\n",
      "  warnings.warn(\n",
      "/home/idg29/anaconda3/envs/BSC/lib/python3.10/site-packages/Bio/PDB/PDBParser.py:395: PDBConstructionWarning: Ignoring unrecognized record 'END' at line 2519\n",
      "  warnings.warn(\n",
      "/home/idg29/anaconda3/envs/BSC/lib/python3.10/site-packages/Bio/PDB/PDBParser.py:395: PDBConstructionWarning: Ignoring unrecognized record 'END' at line 2805\n",
      "  warnings.warn(\n",
      "/home/idg29/anaconda3/envs/BSC/lib/python3.10/site-packages/Bio/PDB/PDBParser.py:395: PDBConstructionWarning: Ignoring unrecognized record 'END' at line 2541\n",
      "  warnings.warn(\n"
     ]
    }
   ],
   "source": [
    "# Se alinean las estructuras utilizando una de referencia, con tal de tener un marco estructural común. Se genera una carpeta nueva \n",
    "# llamada \"aligned_models\".\n",
    "\n",
    "models.alignModelsToReferencePDB('trimmed_models/GPX_Bacillus-subtilis.pdb', 'aligned_models', chain_indexes=0)\n",
    "\n",
    "# Las proteínas alineadas se \"preparan\" nuevamente aplicando la librería anterior.\n",
    "models = prepare_proteins.proteinModels('aligned_models/')\n"
   ]
  },
  {
   "cell_type": "markdown",
   "id": "173b0249-2bd5-4cdd-906a-e75a477ba394",
   "metadata": {},
   "source": [
    "### Optimización con Prepwizard"
   ]
  },
  {
   "cell_type": "code",
   "execution_count": 20,
   "id": "02569fb1-6338-4324-944a-476cb95bafe1",
   "metadata": {},
   "outputs": [],
   "source": [
    "#Llamamos al método y generamos carpeta \"prepwizard\" donde guardar estructuras optimizadas.\n",
    "jobs = models.setUpPrepwizardOptimization('prepwizard')\n",
    "\n",
    "#Después de ejecutar el método, este devuelve los comandos que deben ejecutarse para realizar la optimización de Prepwizard en \n",
    "#una máquina equipada con la licencia de software de Schrödinger. \n",
    "#Los comandos pueden pasarse a la biblioteca bsc_calculations para generar los scripts que faciliten la ejecución.\n",
    "\n",
    "bsc_calculations.local.parallel(jobs, cpus=min([40, len(jobs)]))\n",
    "\n",
    "#Pasamos los comandos a la subclase local y definimos de antemano el número de CPUs que queremos usar, de modo que la biblioteca creará un script para \n",
    "#cada CPU que se utilizará. Los archivos de script se llaman commands_?; donde \"?\" representa un número entero que identifica el script individual. \n",
    "#El método también escribe un script llamado commands, que puede lanzar todos los scripts simultáneamente. \n",
    "#Entonces, para ejecutar las optimizaciones, necesitamos cargar la carpeta 'prepwizard' en un clúster con una licencia de Schrödinger y \n",
    "#todos los scripts de comandos.\n",
    "\n",
    "#Para ejecutar los calculos, debemos lanzar \"bash commands\""
   ]
  },
  {
   "cell_type": "code",
   "execution_count": 4,
   "id": "6f7fafff-8357-4c10-863c-dc8c2311adad",
   "metadata": {},
   "outputs": [
    {
     "name": "stderr",
     "output_type": "stream",
     "text": [
      "/home/idg29/anaconda3/envs/BSC/lib/python3.10/site-packages/Bio/PDB/PDBParser.py:416: PDBConstructionWarning: PDBConstructionException: Atom H defined twice in residue <Residue SER het=  resseq=10 icode= > at line 16.\n",
      "Exception ignored.\n",
      "Some atoms or residues may be missing in the data structure.\n",
      "  warnings.warn(\n"
     ]
    }
   ],
   "source": [
    "#Después de optimizar los modelos mediante PrepWizard, debemos descargarlos en la carpeta que contenga también este mismo notebook y cargarlos en la libreria. \n",
    "\n",
    "models.loadModelsFromPrepwizardFolder('prepwizard/')\n",
    "\n",
    "#Después de cargar los modelos en la librería, hay que evaluarlos visualmente. Para ello, se guardan en la carpeta \"prepwizard_models\"\n",
    "\n",
    "models.saveModels('prepwizard_models')"
   ]
  },
  {
   "cell_type": "markdown",
   "id": "d44a2aca-5abf-4b28-a9c4-94c1efa4397a",
   "metadata": {},
   "source": [
    "## Docking Previo Con GLIDE"
   ]
  },
  {
   "cell_type": "code",
   "execution_count": null,
   "id": "0894a8cd-4432-46b2-9f92-22142c1f121f",
   "metadata": {},
   "outputs": [],
   "source": [
    "#Previo PELE, se deben propner cuales serán las múltilpes conformaciones que tendrá el ligando a la hora de interactuar con la proteína. Para ello, \n",
    "#se realizan docking previos de menor precision mediante programa Glide. Este programa genera un \"cuadricula\" constituida por un cubículo interno que \n",
    "#contiene el ligando y delimita la region central en la que se posiciona y orienta el ligando y el espacio en el que se exploran las posiciones y \n",
    "#orientaciones de este. El cubículo externo define el espacio en el que Glide permite que el ligando se acerque y se mueva antes de entrar en la región \n",
    "#de docking detallada. Asegura que el docking se enfoque en el sitio de unión, pero con la suficiente libertad para que el ligando pueda acomodarse \n",
    "#antes de fijarse en su posición ideal."
   ]
  },
  {
   "cell_type": "markdown",
   "id": "ffe9c858-afea-4782-87b0-9cb7d389db09",
   "metadata": {},
   "source": [
    "### Selección aminoacidos centrales docking"
   ]
  },
  {
   "cell_type": "code",
   "execution_count": 5,
   "id": "721c96f6-26a5-4417-972d-b39882d70217",
   "metadata": {},
   "outputs": [],
   "source": [
    "#Previa elaboración del docking con Glide, al trabajar con proteinas con centros catalíticos semejantes pero con una distribución de los aa \n",
    "#diferente y por ende con índices PDB diferentes para los residuos de interés, se debe realizar un alineamiento múltiple de secuéncia (MSA)previo. \n",
    "#Así pues, dado uno o múltiples aa de interés, mediante el MSA somos capaces de determinar en cada una de las proteínas, que índice adopta los aa\n",
    "#de interés dentro de ellas. \n",
    "\n",
    "#El alineamiento se realiza mediante el método calculateMSA(), basado en el programa mafft.\n",
    "\n",
    "msa = models.calculateMSA()\n",
    "\n",
    "#Para evaluar el MSA, se genera un output con el siguiente comando, de tal manera que el resultado puede ser analizado con programa externo como CHIMERA.\n",
    "\n",
    "prepare_proteins.alignment.writeMsaToFastaFile(msa, 'msa.fasta')"
   ]
  },
  {
   "cell_type": "code",
   "execution_count": 6,
   "id": "a81c8515-b5a5-4246-981d-5437bd72fc93",
   "metadata": {},
   "outputs": [
    {
     "name": "stdout",
     "output_type": "stream",
     "text": [
      "(35, 'C')\n",
      "(64, 'C')\n"
     ]
    }
   ],
   "source": [
    "#Obtener los aa conservados\n",
    "\n",
    "conserved_index = models.getConservedMSAPositions(msa)   #De aquí obtenemos cada átomo conservado en forma de tupla (chain_index, residue_id, X).\n",
    "for c in conserved_index:\n",
    "    if c[1] == 'C':\n",
    "        print(c)    "
   ]
  },
  {
   "cell_type": "code",
   "execution_count": 7,
   "id": "9e3cdf4e-d93f-4caf-924f-fe3192f0a097",
   "metadata": {},
   "outputs": [
    {
     "name": "stdout",
     "output_type": "stream",
     "text": [
      "{'GPX_Bacillus-subtilis': [35], 'GPX_Gossypium-hirsutum': [43], 'GPX_Lactococcus-lactis': [35], 'GPX_Neisseria-meningitidis': [35], 'GPX_Staphylococcus-aureus': [36]}\n"
     ]
    }
   ],
   "source": [
    "#Usamos el índice del MSA para obtener los índices del PDB para todas las proteínas cargadas en la librería\n",
    "\n",
    "aa_index = models.getStructurePositionsFromMSAindexes(35) #Este número se cambia por el índice que toque\n",
    "print(aa_index) #índice del aa de interés en cada modelo (proteína)\n",
    "\n",
    "#Con los índices PDB obtenidos para cada proteína, definimos el centro del cubículo de Glide"
   ]
  },
  {
   "cell_type": "markdown",
   "id": "17d47a7b-5a73-4125-a53b-4ca0fca85206",
   "metadata": {},
   "source": [
    "### Preparación del cubículo para Glide"
   ]
  },
  {
   "cell_type": "code",
   "execution_count": 8,
   "id": "0364c433-3b4a-483c-b2d6-0dbb056b012f",
   "metadata": {},
   "outputs": [],
   "source": [
    "#Se define el centro del cubículo como el aa de interés, descrito como GC (grid center). Generamos un diccionario con 3 elementos\n",
    "# (chain_id, residue_id, atom_name). Se usa Bio.PDB.Structures para interar los modelos y recopilar toda esta información de forma segura. \n",
    "\n",
    "aa_center_atom = {} # Create dictionary to store the atom 3-element tuple for each model\n",
    "for model in models: # Iterate the models inside the library\n",
    "    for r in models.structures[model].get_residues(): # Iterate the residues for each Bio.PDB.Structure object\n",
    "        if r.id[1] == aa_index[model][0]: # Check that the residue matches the defined index\n",
    "            assert r.resname == 'CYS', f\"Residuo en el modelo {model} y residuo {r.id[1]} no es CYS, sino {r.resname}\" # Assert that the residue has the correct residue identity. Assert devuelve un booleano True si se cumple la condición\n",
    "                                      # de lo contrario devuelve un \"AssertError\"\n",
    "            aa_center_atom[model] = (r.get_parent().id, r.id[1], 'SG') # Store the corresponsing tuple."
   ]
  },
  {
   "cell_type": "code",
   "execution_count": 9,
   "id": "0ec08be0-a159-4820-b4ec-381ed0179584",
   "metadata": {},
   "outputs": [
    {
     "name": "stdout",
     "output_type": "stream",
     "text": [
      "{'GPX_Bacillus-subtilis': ('A', 35, 'SG'), 'GPX_Gossypium-hirsutum': ('A', 43, 'SG'), 'GPX_Lactococcus-lactis': ('A', 35, 'SG'), 'GPX_Neisseria-meningitidis': ('A', 35, 'SG'), 'GPX_Staphylococcus-aureus': ('A', 36, 'SG')}\n"
     ]
    }
   ],
   "source": [
    "print(aa_center_atom)"
   ]
  },
  {
   "cell_type": "code",
   "execution_count": 10,
   "id": "90772528-cfa0-40f1-a2a3-56274d6e1eca",
   "metadata": {},
   "outputs": [],
   "source": [
    "#Un vez descrito el centro del grid, se crea la carpeta para los resultados de Glide y los script para lanzar los calculos que permitan ubicar el \n",
    "#grid en la proteína.\n",
    "\n",
    "jobs = models.setUpDockingGrid('grid', aa_center_atom) # Set grid calcualtion. El méotodo necesita el nombre de la carpeta donde almacenar los calculos \n",
    "                                                        # y, el diccionario con los centros.\n",
    "bsc_calculations.local.parallel(jobs, cpus=min([40, len(jobs)])) # Write the scripts to run them locally.\n"
   ]
  },
  {
   "cell_type": "markdown",
   "id": "fada6023-4847-46ee-b03a-6d61e1f7318f",
   "metadata": {},
   "source": [
    "### Realizar Glide Docking"
   ]
  },
  {
   "cell_type": "code",
   "execution_count": 11,
   "id": "791d77f6-7445-4f9b-a0e4-9ef0c2707adc",
   "metadata": {},
   "outputs": [],
   "source": [
    "#Una vez ubicado el cubículo en los diferentes modelos de las proteínas, es necesario disponer de un ligando del cual estudiar el docking.abs\n",
    "#Para ello, mediante la aplicación online de \"Maestro 2D sketcher\" podemos diseñar el ligando y guardarlo como archiovo \".mae\" en el directorio \n",
    "#de este proyecto. En caso de descargar el ligando desde PDB en dicho formato, se utiliza el siguiente método para convertir todos los \n",
    "#ligandos presentes en una carpeta determinada a \".mae\"\n",
    "\n",
    "models.convertLigandPDBtoMae('ligands') #\"ligands\" es la carpeta que contiene inicialmente los ligandos en formato PDB."
   ]
  },
  {
   "cell_type": "code",
   "execution_count": 12,
   "id": "b07b6823-7cd1-4ac5-94ad-29aaba7bd6db",
   "metadata": {},
   "outputs": [],
   "source": [
    "#Con el cubículo establecido y los ligandos preparados, se puede iniciar el docking.\n",
    "\n",
    "jobs = models.setUpGlideDocking('docking', 'grid', 'ligands', poses_per_lig=100) #poses_per_lig hace referencia al número de trayectorias de docking\n",
    "bsc_calculations.local.parallel(jobs, cpus=min([40, len(jobs)]))\n",
    "\n",
    "#Tras ejecutar y descargar los resultados del acoplamiento, pueden analizarse para extraer las mejores poses y introducirlas a PELE.\n",
    "\n",
    "#Las mejores poses se seleccionaran mediante el \"GlideScore\". sin embargo, en muchas ocasiones, también podemos querer filtrar las poses por \n",
    "#diferentes distancias proteína-ligando que representen las mejores conformaciones según lo que pretendamos simular. \n",
    "#Para estudiar esta sesgunda opción, en primer lugar, construimos un diccionario que contiene las distancias de acoplamiento que queremos calcular \n",
    "#a partir de las conformaciones generadas por el cálculo de acoplamiento de Glide. Este diccionario (atom_pairs) es un diccionario doblemente \n",
    "#anidado que debe ir primero para todos los modelos de proteínas y luego para todos los ligandos que fueron acoplados."
   ]
  },
  {
   "cell_type": "code",
   "execution_count": 13,
   "id": "d7c374fd-e230-470f-8b41-f1cc35dcb7a8",
   "metadata": {},
   "outputs": [
    {
     "data": {
      "text/plain": [
       "{'GPX_Bacillus-subtilis': {'GSH': [(('A', 35, 'SG'), 'S1')]},\n",
       " 'GPX_Gossypium-hirsutum': {'GSH': [(('A', 43, 'SG'), 'S1')]},\n",
       " 'GPX_Lactococcus-lactis': {'GSH': [(('A', 35, 'SG'), 'S1')]},\n",
       " 'GPX_Neisseria-meningitidis': {'GSH': [(('A', 35, 'SG'), 'S1')]},\n",
       " 'GPX_Staphylococcus-aureus': {'GSH': [(('A', 36, 'SG'), 'S1')]}}"
      ]
     },
     "execution_count": 13,
     "metadata": {},
     "output_type": "execute_result"
    }
   ],
   "source": [
    "atom_pairs = {}\n",
    "for model in models:\n",
    "    atom_pairs[model] = {}\n",
    "    for ligand in [\"GSH\"]: #Siendo \"x\" ¿carpeta con poses del ligando estudiadas en Glide?\n",
    "        atom_pairs[model][ligand] = []\n",
    "        atom_pairs[model][ligand].append((aa_center_atom[model], \"S1\")) #Siendo \"x\" un átomo del ligando del cual se estudia el docking\n",
    "atom_pairs    "
   ]
  },
  {
   "cell_type": "code",
   "execution_count": 18,
   "id": "96ca000f-5f7e-4b99-a138-feb46db082df",
   "metadata": {},
   "outputs": [
    {
     "name": "stdout",
     "output_type": "stream",
     "text": [
      "0 of 5 models failed (0.00)\n",
      "Processing model GPX_Bacillus-subtilis and ligand GSH\n",
      "Processing model GPX_Gossypium-hirsutum and ligand GSH\n",
      "Processing model GPX_Lactococcus-lactis and ligand GSH\n",
      "Processing model GPX_Neisseria-meningitidis and ligand GSH\n",
      "Processing model GPX_Staphylococcus-aureus and ligand GSH\n",
      "\n",
      "\n",
      "Finished processing models\n"
     ]
    }
   ],
   "source": [
    "#Ahora podemos utilizar este diccionario como entrada para nuestro análisis de acoplamiento:\n",
    "\n",
    "models.analyseDocking(docking_folder='docking', atom_pairs=atom_pairs, separator=\"·\")"
   ]
  },
  {
   "cell_type": "code",
   "execution_count": 19,
   "id": "d29b3249-9603-4d48-a389-f770876297f0",
   "metadata": {},
   "outputs": [
    {
     "data": {
      "text/html": [
       "<div>\n",
       "<style scoped>\n",
       "    .dataframe tbody tr th:only-of-type {\n",
       "        vertical-align: middle;\n",
       "    }\n",
       "\n",
       "    .dataframe tbody tr th {\n",
       "        vertical-align: top;\n",
       "    }\n",
       "\n",
       "    .dataframe thead th {\n",
       "        text-align: right;\n",
       "    }\n",
       "</style>\n",
       "<table border=\"1\" class=\"dataframe\">\n",
       "  <thead>\n",
       "    <tr style=\"text-align: right;\">\n",
       "      <th></th>\n",
       "      <th></th>\n",
       "      <th></th>\n",
       "      <th>Score</th>\n",
       "      <th>RMSD</th>\n",
       "      <th>SASA</th>\n",
       "    </tr>\n",
       "    <tr>\n",
       "      <th>Protein</th>\n",
       "      <th>Ligand</th>\n",
       "      <th>Pose</th>\n",
       "      <th></th>\n",
       "      <th></th>\n",
       "      <th></th>\n",
       "    </tr>\n",
       "  </thead>\n",
       "  <tbody>\n",
       "    <tr>\n",
       "      <th rowspan=\"5\" valign=\"top\">GPX_Neisseria-meningitidis</th>\n",
       "      <th rowspan=\"5\" valign=\"top\">GSH</th>\n",
       "      <th>1</th>\n",
       "      <td>-6.083837</td>\n",
       "      <td>0.000000</td>\n",
       "      <td>130.161767</td>\n",
       "    </tr>\n",
       "    <tr>\n",
       "      <th>2</th>\n",
       "      <td>-5.953054</td>\n",
       "      <td>0.256286</td>\n",
       "      <td>141.906320</td>\n",
       "    </tr>\n",
       "    <tr>\n",
       "      <th>3</th>\n",
       "      <td>-5.883418</td>\n",
       "      <td>0.210167</td>\n",
       "      <td>153.180100</td>\n",
       "    </tr>\n",
       "    <tr>\n",
       "      <th>4</th>\n",
       "      <td>-5.851441</td>\n",
       "      <td>0.191589</td>\n",
       "      <td>142.555926</td>\n",
       "    </tr>\n",
       "    <tr>\n",
       "      <th>5</th>\n",
       "      <td>-5.817900</td>\n",
       "      <td>0.245980</td>\n",
       "      <td>141.886181</td>\n",
       "    </tr>\n",
       "    <tr>\n",
       "      <th>...</th>\n",
       "      <th>...</th>\n",
       "      <th>...</th>\n",
       "      <td>...</td>\n",
       "      <td>...</td>\n",
       "      <td>...</td>\n",
       "    </tr>\n",
       "    <tr>\n",
       "      <th rowspan=\"5\" valign=\"top\">GPX_Staphylococcus-aureus</th>\n",
       "      <th rowspan=\"5\" valign=\"top\">GSH</th>\n",
       "      <th>86</th>\n",
       "      <td>-2.734328</td>\n",
       "      <td>0.948186</td>\n",
       "      <td>268.621352</td>\n",
       "    </tr>\n",
       "    <tr>\n",
       "      <th>87</th>\n",
       "      <td>-2.722759</td>\n",
       "      <td>0.882271</td>\n",
       "      <td>253.304183</td>\n",
       "    </tr>\n",
       "    <tr>\n",
       "      <th>88</th>\n",
       "      <td>-2.686077</td>\n",
       "      <td>0.374770</td>\n",
       "      <td>298.412238</td>\n",
       "    </tr>\n",
       "    <tr>\n",
       "      <th>89</th>\n",
       "      <td>-2.640914</td>\n",
       "      <td>0.916965</td>\n",
       "      <td>253.906219</td>\n",
       "    </tr>\n",
       "    <tr>\n",
       "      <th>90</th>\n",
       "      <td>-2.391228</td>\n",
       "      <td>0.315519</td>\n",
       "      <td>286.476440</td>\n",
       "    </tr>\n",
       "  </tbody>\n",
       "</table>\n",
       "<p>462 rows × 3 columns</p>\n",
       "</div>"
      ],
      "text/plain": [
       "                                           Score      RMSD        SASA\n",
       "Protein                    Ligand Pose                                \n",
       "GPX_Neisseria-meningitidis GSH    1    -6.083837  0.000000  130.161767\n",
       "                                  2    -5.953054  0.256286  141.906320\n",
       "                                  3    -5.883418  0.210167  153.180100\n",
       "                                  4    -5.851441  0.191589  142.555926\n",
       "                                  5    -5.817900  0.245980  141.886181\n",
       "...                                          ...       ...         ...\n",
       "GPX_Staphylococcus-aureus  GSH    86   -2.734328  0.948186  268.621352\n",
       "                                  87   -2.722759  0.882271  253.304183\n",
       "                                  88   -2.686077  0.374770  298.412238\n",
       "                                  89   -2.640914  0.916965  253.906219\n",
       "                                  90   -2.391228  0.315519  286.476440\n",
       "\n",
       "[462 rows x 3 columns]"
      ]
     },
     "execution_count": 19,
     "metadata": {},
     "output_type": "execute_result"
    }
   ],
   "source": [
    "#Los datos del análisis de acoplamiento se almacenan como un Panda DF en el atributo .docking_data:\n",
    "\n",
    "models.docking_data"
   ]
  },
  {
   "cell_type": "code",
   "execution_count": 20,
   "id": "58220431-9ca4-4c58-9721-784a83d6772a",
   "metadata": {},
   "outputs": [],
   "source": [
    "#Selección de las mejores poses en función de la distáncia\n",
    "\n",
    "#Para facilitar la selección de poses según una distancia común, primero necesitamos agrupar las distancias bajo un nombre común (metric_distances) \n",
    "#en nuestro data frame. Podemos utilizar el método combineDockingDistancesIntoMetrics(), que reunirá todas las distancias en una lista y las \n",
    "#combinará tomando el mínimo de los valores de distancia. Para utilizar la función, necesitamos construir un diccionario triplemente \n",
    "#anidado que vaya de cada métrica, modelo y ligando y contenga como valores las listas (de cada modelo + ligando), que se combinarán bajo el \n",
    "#nombre métrico común\n",
    "\n",
    "metric_distances = {} # Define the global dictionary\n",
    "metric_distances['SG_S'] = {} # Define the metric nested dictionary\n",
    "for model in models:\n",
    "    metric_distances['SG_S'][model] = {} # Define the model nested dictionary\n",
    "    for ligand in models.docking_ligands[model]: \n",
    "        # Define the ligand nested dictionary with all the docking distances list\n",
    "        metric_distances['SG_S'][model][ligand] = models.getDockingDistances(model, ligand)"
   ]
  },
  {
   "cell_type": "code",
   "execution_count": 21,
   "id": "69f716e7-d904-4b30-8e9a-db0fd2e3e64b",
   "metadata": {},
   "outputs": [
    {
     "data": {
      "text/html": [
       "<div>\n",
       "<style scoped>\n",
       "    .dataframe tbody tr th:only-of-type {\n",
       "        vertical-align: middle;\n",
       "    }\n",
       "\n",
       "    .dataframe tbody tr th {\n",
       "        vertical-align: top;\n",
       "    }\n",
       "\n",
       "    .dataframe thead th {\n",
       "        text-align: right;\n",
       "    }\n",
       "</style>\n",
       "<table border=\"1\" class=\"dataframe\">\n",
       "  <thead>\n",
       "    <tr style=\"text-align: right;\">\n",
       "      <th></th>\n",
       "      <th></th>\n",
       "      <th></th>\n",
       "      <th>Score</th>\n",
       "      <th>RMSD</th>\n",
       "      <th>SASA</th>\n",
       "      <th>metric_SG_S</th>\n",
       "    </tr>\n",
       "    <tr>\n",
       "      <th>Protein</th>\n",
       "      <th>Ligand</th>\n",
       "      <th>Pose</th>\n",
       "      <th></th>\n",
       "      <th></th>\n",
       "      <th></th>\n",
       "      <th></th>\n",
       "    </tr>\n",
       "  </thead>\n",
       "  <tbody>\n",
       "    <tr>\n",
       "      <th rowspan=\"5\" valign=\"top\">GPX_Neisseria-meningitidis</th>\n",
       "      <th rowspan=\"5\" valign=\"top\">GSH</th>\n",
       "      <th>1</th>\n",
       "      <td>-6.083837</td>\n",
       "      <td>0.000000</td>\n",
       "      <td>130.161767</td>\n",
       "      <td>10.526809</td>\n",
       "    </tr>\n",
       "    <tr>\n",
       "      <th>2</th>\n",
       "      <td>-5.953054</td>\n",
       "      <td>0.256286</td>\n",
       "      <td>141.906320</td>\n",
       "      <td>10.374657</td>\n",
       "    </tr>\n",
       "    <tr>\n",
       "      <th>3</th>\n",
       "      <td>-5.883418</td>\n",
       "      <td>0.210167</td>\n",
       "      <td>153.180100</td>\n",
       "      <td>7.818727</td>\n",
       "    </tr>\n",
       "    <tr>\n",
       "      <th>4</th>\n",
       "      <td>-5.851441</td>\n",
       "      <td>0.191589</td>\n",
       "      <td>142.555926</td>\n",
       "      <td>9.637886</td>\n",
       "    </tr>\n",
       "    <tr>\n",
       "      <th>5</th>\n",
       "      <td>-5.817900</td>\n",
       "      <td>0.245980</td>\n",
       "      <td>141.886181</td>\n",
       "      <td>10.389298</td>\n",
       "    </tr>\n",
       "    <tr>\n",
       "      <th>...</th>\n",
       "      <th>...</th>\n",
       "      <th>...</th>\n",
       "      <td>...</td>\n",
       "      <td>...</td>\n",
       "      <td>...</td>\n",
       "      <td>...</td>\n",
       "    </tr>\n",
       "    <tr>\n",
       "      <th rowspan=\"5\" valign=\"top\">GPX_Staphylococcus-aureus</th>\n",
       "      <th rowspan=\"5\" valign=\"top\">GSH</th>\n",
       "      <th>86</th>\n",
       "      <td>-2.734328</td>\n",
       "      <td>0.948186</td>\n",
       "      <td>268.621352</td>\n",
       "      <td>7.930608</td>\n",
       "    </tr>\n",
       "    <tr>\n",
       "      <th>87</th>\n",
       "      <td>-2.722759</td>\n",
       "      <td>0.882271</td>\n",
       "      <td>253.304183</td>\n",
       "      <td>7.886123</td>\n",
       "    </tr>\n",
       "    <tr>\n",
       "      <th>88</th>\n",
       "      <td>-2.686077</td>\n",
       "      <td>0.374770</td>\n",
       "      <td>298.412238</td>\n",
       "      <td>11.160625</td>\n",
       "    </tr>\n",
       "    <tr>\n",
       "      <th>89</th>\n",
       "      <td>-2.640914</td>\n",
       "      <td>0.916965</td>\n",
       "      <td>253.906219</td>\n",
       "      <td>7.722644</td>\n",
       "    </tr>\n",
       "    <tr>\n",
       "      <th>90</th>\n",
       "      <td>-2.391228</td>\n",
       "      <td>0.315519</td>\n",
       "      <td>286.476440</td>\n",
       "      <td>9.024629</td>\n",
       "    </tr>\n",
       "  </tbody>\n",
       "</table>\n",
       "<p>462 rows × 4 columns</p>\n",
       "</div>"
      ],
      "text/plain": [
       "                                           Score      RMSD        SASA  \\\n",
       "Protein                    Ligand Pose                                   \n",
       "GPX_Neisseria-meningitidis GSH    1    -6.083837  0.000000  130.161767   \n",
       "                                  2    -5.953054  0.256286  141.906320   \n",
       "                                  3    -5.883418  0.210167  153.180100   \n",
       "                                  4    -5.851441  0.191589  142.555926   \n",
       "                                  5    -5.817900  0.245980  141.886181   \n",
       "...                                          ...       ...         ...   \n",
       "GPX_Staphylococcus-aureus  GSH    86   -2.734328  0.948186  268.621352   \n",
       "                                  87   -2.722759  0.882271  253.304183   \n",
       "                                  88   -2.686077  0.374770  298.412238   \n",
       "                                  89   -2.640914  0.916965  253.906219   \n",
       "                                  90   -2.391228  0.315519  286.476440   \n",
       "\n",
       "                                        metric_SG_S  \n",
       "Protein                    Ligand Pose               \n",
       "GPX_Neisseria-meningitidis GSH    1       10.526809  \n",
       "                                  2       10.374657  \n",
       "                                  3        7.818727  \n",
       "                                  4        9.637886  \n",
       "                                  5       10.389298  \n",
       "...                                             ...  \n",
       "GPX_Staphylococcus-aureus  GSH    86       7.930608  \n",
       "                                  87       7.886123  \n",
       "                                  88      11.160625  \n",
       "                                  89       7.722644  \n",
       "                                  90       9.024629  \n",
       "\n",
       "[462 rows x 4 columns]"
      ]
     },
     "execution_count": 21,
     "metadata": {},
     "output_type": "execute_result"
    }
   ],
   "source": [
    "#Ahora le damos este diccionario al método combineDockingDistancesIntoMetrics() e inspeccionamos los cambios sobre nuestros datos de acoplamiento:\n",
    "\n",
    "models.combineDockingDistancesIntoMetrics(metric_distances)\n",
    "models.docking_data\n",
    "\n",
    "#Ahora que nuestro marco de datos de acoplamiento contiene una nueva columna con las distancias de acoplamiento agrupadas bajo el mismo nombre, \n",
    "#podemos utilizar esta información para extraer las mejores poses resultantes de cada ejecución de acoplamiento."
   ]
  },
  {
   "cell_type": "markdown",
   "id": "2ef9b9ad-3c91-4aee-9cd9-d4964180462b",
   "metadata": {},
   "source": [
    "### Cálculo de las mejores poses"
   ]
  },
  {
   "cell_type": "code",
   "execution_count": 26,
   "id": "56281efe-aa4c-4447-a407-e63863970ca0",
   "metadata": {},
   "outputs": [
    {
     "ename": "TypeError",
     "evalue": "'<' not supported between instances of 'float' and 'dict'",
     "output_type": "error",
     "traceback": [
      "\u001b[0;31m---------------------------------------------------------------------------\u001b[0m",
      "\u001b[0;31mTypeError\u001b[0m                                 Traceback (most recent call last)",
      "Cell \u001b[0;32mIn[26], line 11\u001b[0m\n\u001b[1;32m      1\u001b[0m \u001b[38;5;66;03m#Esto puede conseguirse dando un valor umbral para obtener todas las poses catalíticas que cumplan un valor específico para la métrica común y \u001b[39;00m\n\u001b[1;32m      2\u001b[0m \u001b[38;5;66;03m#obteniendo las que tengan la mejor puntuación Glide. Sin embargo, no siempre ocurre que todas las ejecuciones de docking (es decir, para cada \u001b[39;00m\n\u001b[1;32m      3\u001b[0m \u001b[38;5;66;03m#combinación de proteína y ligando) produzcan distancias razonables. En este caso, muchos resultados de docking quedarían fuera si los umbrales de \u001b[39;00m\n\u001b[0;32m   (...)\u001b[0m\n\u001b[1;32m      8\u001b[0m \n\u001b[1;32m      9\u001b[0m \u001b[38;5;66;03m#Por suerte, este proceso se ha automatizado en la biblioteca para que la selección de acoplamiento pueda llevarse a cabo fácilmente:\u001b[39;00m\n\u001b[0;32m---> 11\u001b[0m best_poses \u001b[38;5;241m=\u001b[39m \u001b[43mmodels\u001b[49m\u001b[38;5;241;43m.\u001b[39;49m\u001b[43mgetBestDockingPosesIteratively\u001b[49m\u001b[43m(\u001b[49m\u001b[43mmetric_distances\u001b[49m\u001b[43m)\u001b[49m\n\u001b[1;32m     12\u001b[0m best_poses\n",
      "File \u001b[0;32m~/anaconda3/envs/BSC/lib/python3.10/site-packages/prepare_proteins-0.0.1-py3.10.egg/prepare_proteins/_protein_models.py:8824\u001b[0m, in \u001b[0;36mproteinModels.getBestDockingPosesIteratively\u001b[0;34m(self, metrics, ligands, distance_step, angle_step, fixed, max_distance, max_distance_step_shift, verbose)\u001b[0m\n\u001b[1;32m   8821\u001b[0m     ti \u001b[38;5;241m=\u001b[39m time\u001b[38;5;241m.\u001b[39mtime()\n\u001b[1;32m   8823\u001b[0m \u001b[38;5;66;03m# Get best poses with current thresholds\u001b[39;00m\n\u001b[0;32m-> 8824\u001b[0m best_poses \u001b[38;5;241m=\u001b[39m \u001b[38;5;28;43mself\u001b[39;49m\u001b[38;5;241;43m.\u001b[39;49m\u001b[43mgetBestDockingPoses\u001b[49m\u001b[43m(\u001b[49m\u001b[43mmetrics\u001b[49m\u001b[43m,\u001b[49m\u001b[43m \u001b[49m\u001b[43mn_models\u001b[49m\u001b[38;5;241;43m=\u001b[39;49m\u001b[38;5;241;43m1\u001b[39;49m\u001b[43m)\u001b[49m  \u001b[38;5;66;03m# Assuming self has this method\u001b[39;00m\n\u001b[1;32m   8826\u001b[0m \u001b[38;5;66;03m# Select new models\u001b[39;00m\n\u001b[1;32m   8827\u001b[0m new_selected_pairs \u001b[38;5;241m=\u001b[39m \u001b[38;5;28mset\u001b[39m()\n",
      "File \u001b[0;32m~/anaconda3/envs/BSC/lib/python3.10/site-packages/prepare_proteins-0.0.1-py3.10.egg/prepare_proteins/_protein_models.py:8696\u001b[0m, in \u001b[0;36mproteinModels.getBestDockingPoses\u001b[0;34m(self, filter_values, n_models, return_failed, exclude_models, exclude_ligands, exclude_pairs)\u001b[0m\n\u001b[1;32m   8691\u001b[0m         filtered_data \u001b[38;5;241m=\u001b[39m filtered_data[\n\u001b[1;32m   8692\u001b[0m             (filtered_data[metric_label] \u001b[38;5;241m>\u001b[39m\u001b[38;5;241m=\u001b[39m filter_value[\u001b[38;5;241m0\u001b[39m]) \u001b[38;5;241m&\u001b[39m\n\u001b[1;32m   8693\u001b[0m             (filtered_data[metric_label] \u001b[38;5;241m<\u001b[39m\u001b[38;5;241m=\u001b[39m filter_value[\u001b[38;5;241m1\u001b[39m])\n\u001b[1;32m   8694\u001b[0m         ]\n\u001b[1;32m   8695\u001b[0m     \u001b[38;5;28;01melse\u001b[39;00m:\n\u001b[0;32m-> 8696\u001b[0m         filtered_data \u001b[38;5;241m=\u001b[39m filtered_data[\u001b[43mfiltered_data\u001b[49m\u001b[43m[\u001b[49m\u001b[43mmetric_label\u001b[49m\u001b[43m]\u001b[49m\u001b[43m \u001b[49m\u001b[38;5;241;43m<\u001b[39;49m\u001b[43m \u001b[49m\u001b[43mfilter_value\u001b[49m]\n\u001b[1;32m   8698\u001b[0m \u001b[38;5;66;03m# Ensure index levels are named\u001b[39;00m\n\u001b[1;32m   8699\u001b[0m \u001b[38;5;28;01mif\u001b[39;00m filtered_data\u001b[38;5;241m.\u001b[39mindex\u001b[38;5;241m.\u001b[39mnlevels \u001b[38;5;241m==\u001b[39m \u001b[38;5;241m3\u001b[39m:\n",
      "File \u001b[0;32m~/anaconda3/envs/BSC/lib/python3.10/site-packages/pandas/core/ops/common.py:76\u001b[0m, in \u001b[0;36m_unpack_zerodim_and_defer.<locals>.new_method\u001b[0;34m(self, other)\u001b[0m\n\u001b[1;32m     72\u001b[0m             \u001b[38;5;28;01mreturn\u001b[39;00m \u001b[38;5;28mNotImplemented\u001b[39m\n\u001b[1;32m     74\u001b[0m other \u001b[38;5;241m=\u001b[39m item_from_zerodim(other)\n\u001b[0;32m---> 76\u001b[0m \u001b[38;5;28;01mreturn\u001b[39;00m \u001b[43mmethod\u001b[49m\u001b[43m(\u001b[49m\u001b[38;5;28;43mself\u001b[39;49m\u001b[43m,\u001b[49m\u001b[43m \u001b[49m\u001b[43mother\u001b[49m\u001b[43m)\u001b[49m\n",
      "File \u001b[0;32m~/anaconda3/envs/BSC/lib/python3.10/site-packages/pandas/core/arraylike.py:48\u001b[0m, in \u001b[0;36mOpsMixin.__lt__\u001b[0;34m(self, other)\u001b[0m\n\u001b[1;32m     46\u001b[0m \u001b[38;5;129m@unpack_zerodim_and_defer\u001b[39m(\u001b[38;5;124m\"\u001b[39m\u001b[38;5;124m__lt__\u001b[39m\u001b[38;5;124m\"\u001b[39m)\n\u001b[1;32m     47\u001b[0m \u001b[38;5;28;01mdef\u001b[39;00m \u001b[38;5;21m__lt__\u001b[39m(\u001b[38;5;28mself\u001b[39m, other):\n\u001b[0;32m---> 48\u001b[0m     \u001b[38;5;28;01mreturn\u001b[39;00m \u001b[38;5;28;43mself\u001b[39;49m\u001b[38;5;241;43m.\u001b[39;49m\u001b[43m_cmp_method\u001b[49m\u001b[43m(\u001b[49m\u001b[43mother\u001b[49m\u001b[43m,\u001b[49m\u001b[43m \u001b[49m\u001b[43moperator\u001b[49m\u001b[38;5;241;43m.\u001b[39;49m\u001b[43mlt\u001b[49m\u001b[43m)\u001b[49m\n",
      "File \u001b[0;32m~/anaconda3/envs/BSC/lib/python3.10/site-packages/pandas/core/series.py:6119\u001b[0m, in \u001b[0;36mSeries._cmp_method\u001b[0;34m(self, other, op)\u001b[0m\n\u001b[1;32m   6116\u001b[0m lvalues \u001b[38;5;241m=\u001b[39m \u001b[38;5;28mself\u001b[39m\u001b[38;5;241m.\u001b[39m_values\n\u001b[1;32m   6117\u001b[0m rvalues \u001b[38;5;241m=\u001b[39m extract_array(other, extract_numpy\u001b[38;5;241m=\u001b[39m\u001b[38;5;28;01mTrue\u001b[39;00m, extract_range\u001b[38;5;241m=\u001b[39m\u001b[38;5;28;01mTrue\u001b[39;00m)\n\u001b[0;32m-> 6119\u001b[0m res_values \u001b[38;5;241m=\u001b[39m \u001b[43mops\u001b[49m\u001b[38;5;241;43m.\u001b[39;49m\u001b[43mcomparison_op\u001b[49m\u001b[43m(\u001b[49m\u001b[43mlvalues\u001b[49m\u001b[43m,\u001b[49m\u001b[43m \u001b[49m\u001b[43mrvalues\u001b[49m\u001b[43m,\u001b[49m\u001b[43m \u001b[49m\u001b[43mop\u001b[49m\u001b[43m)\u001b[49m\n\u001b[1;32m   6121\u001b[0m \u001b[38;5;28;01mreturn\u001b[39;00m \u001b[38;5;28mself\u001b[39m\u001b[38;5;241m.\u001b[39m_construct_result(res_values, name\u001b[38;5;241m=\u001b[39mres_name)\n",
      "File \u001b[0;32m~/anaconda3/envs/BSC/lib/python3.10/site-packages/pandas/core/ops/array_ops.py:347\u001b[0m, in \u001b[0;36mcomparison_op\u001b[0;34m(left, right, op)\u001b[0m\n\u001b[1;32m    344\u001b[0m     res_values \u001b[38;5;241m=\u001b[39m comp_method_OBJECT_ARRAY(op, lvalues, rvalues)\n\u001b[1;32m    346\u001b[0m \u001b[38;5;28;01melse\u001b[39;00m:\n\u001b[0;32m--> 347\u001b[0m     res_values \u001b[38;5;241m=\u001b[39m \u001b[43m_na_arithmetic_op\u001b[49m\u001b[43m(\u001b[49m\u001b[43mlvalues\u001b[49m\u001b[43m,\u001b[49m\u001b[43m \u001b[49m\u001b[43mrvalues\u001b[49m\u001b[43m,\u001b[49m\u001b[43m \u001b[49m\u001b[43mop\u001b[49m\u001b[43m,\u001b[49m\u001b[43m \u001b[49m\u001b[43mis_cmp\u001b[49m\u001b[38;5;241;43m=\u001b[39;49m\u001b[38;5;28;43;01mTrue\u001b[39;49;00m\u001b[43m)\u001b[49m\n\u001b[1;32m    349\u001b[0m \u001b[38;5;28;01mreturn\u001b[39;00m res_values\n",
      "File \u001b[0;32m~/anaconda3/envs/BSC/lib/python3.10/site-packages/pandas/core/ops/array_ops.py:218\u001b[0m, in \u001b[0;36m_na_arithmetic_op\u001b[0;34m(left, right, op, is_cmp)\u001b[0m\n\u001b[1;32m    215\u001b[0m     func \u001b[38;5;241m=\u001b[39m partial(expressions\u001b[38;5;241m.\u001b[39mevaluate, op)\n\u001b[1;32m    217\u001b[0m \u001b[38;5;28;01mtry\u001b[39;00m:\n\u001b[0;32m--> 218\u001b[0m     result \u001b[38;5;241m=\u001b[39m \u001b[43mfunc\u001b[49m\u001b[43m(\u001b[49m\u001b[43mleft\u001b[49m\u001b[43m,\u001b[49m\u001b[43m \u001b[49m\u001b[43mright\u001b[49m\u001b[43m)\u001b[49m\n\u001b[1;32m    219\u001b[0m \u001b[38;5;28;01mexcept\u001b[39;00m \u001b[38;5;167;01mTypeError\u001b[39;00m:\n\u001b[1;32m    220\u001b[0m     \u001b[38;5;28;01mif\u001b[39;00m \u001b[38;5;129;01mnot\u001b[39;00m is_cmp \u001b[38;5;129;01mand\u001b[39;00m (\n\u001b[1;32m    221\u001b[0m         left\u001b[38;5;241m.\u001b[39mdtype \u001b[38;5;241m==\u001b[39m \u001b[38;5;28mobject\u001b[39m \u001b[38;5;129;01mor\u001b[39;00m \u001b[38;5;28mgetattr\u001b[39m(right, \u001b[38;5;124m\"\u001b[39m\u001b[38;5;124mdtype\u001b[39m\u001b[38;5;124m\"\u001b[39m, \u001b[38;5;28;01mNone\u001b[39;00m) \u001b[38;5;241m==\u001b[39m \u001b[38;5;28mobject\u001b[39m\n\u001b[1;32m    222\u001b[0m     ):\n\u001b[0;32m   (...)\u001b[0m\n\u001b[1;32m    225\u001b[0m         \u001b[38;5;66;03m# Don't do this for comparisons, as that will handle complex numbers\u001b[39;00m\n\u001b[1;32m    226\u001b[0m         \u001b[38;5;66;03m#  incorrectly, see GH#32047\u001b[39;00m\n",
      "File \u001b[0;32m~/anaconda3/envs/BSC/lib/python3.10/site-packages/pandas/core/computation/expressions.py:242\u001b[0m, in \u001b[0;36mevaluate\u001b[0;34m(op, a, b, use_numexpr)\u001b[0m\n\u001b[1;32m    239\u001b[0m \u001b[38;5;28;01mif\u001b[39;00m op_str \u001b[38;5;129;01mis\u001b[39;00m \u001b[38;5;129;01mnot\u001b[39;00m \u001b[38;5;28;01mNone\u001b[39;00m:\n\u001b[1;32m    240\u001b[0m     \u001b[38;5;28;01mif\u001b[39;00m use_numexpr:\n\u001b[1;32m    241\u001b[0m         \u001b[38;5;66;03m# error: \"None\" not callable\u001b[39;00m\n\u001b[0;32m--> 242\u001b[0m         \u001b[38;5;28;01mreturn\u001b[39;00m \u001b[43m_evaluate\u001b[49m\u001b[43m(\u001b[49m\u001b[43mop\u001b[49m\u001b[43m,\u001b[49m\u001b[43m \u001b[49m\u001b[43mop_str\u001b[49m\u001b[43m,\u001b[49m\u001b[43m \u001b[49m\u001b[43ma\u001b[49m\u001b[43m,\u001b[49m\u001b[43m \u001b[49m\u001b[43mb\u001b[49m\u001b[43m)\u001b[49m  \u001b[38;5;66;03m# type: ignore[misc]\u001b[39;00m\n\u001b[1;32m    243\u001b[0m \u001b[38;5;28;01mreturn\u001b[39;00m _evaluate_standard(op, op_str, a, b)\n",
      "File \u001b[0;32m~/anaconda3/envs/BSC/lib/python3.10/site-packages/pandas/core/computation/expressions.py:131\u001b[0m, in \u001b[0;36m_evaluate_numexpr\u001b[0;34m(op, op_str, a, b)\u001b[0m\n\u001b[1;32m    128\u001b[0m     _store_test_result(result \u001b[38;5;129;01mis\u001b[39;00m \u001b[38;5;129;01mnot\u001b[39;00m \u001b[38;5;28;01mNone\u001b[39;00m)\n\u001b[1;32m    130\u001b[0m \u001b[38;5;28;01mif\u001b[39;00m result \u001b[38;5;129;01mis\u001b[39;00m \u001b[38;5;28;01mNone\u001b[39;00m:\n\u001b[0;32m--> 131\u001b[0m     result \u001b[38;5;241m=\u001b[39m \u001b[43m_evaluate_standard\u001b[49m\u001b[43m(\u001b[49m\u001b[43mop\u001b[49m\u001b[43m,\u001b[49m\u001b[43m \u001b[49m\u001b[43mop_str\u001b[49m\u001b[43m,\u001b[49m\u001b[43m \u001b[49m\u001b[43ma\u001b[49m\u001b[43m,\u001b[49m\u001b[43m \u001b[49m\u001b[43mb\u001b[49m\u001b[43m)\u001b[49m\n\u001b[1;32m    133\u001b[0m \u001b[38;5;28;01mreturn\u001b[39;00m result\n",
      "File \u001b[0;32m~/anaconda3/envs/BSC/lib/python3.10/site-packages/pandas/core/computation/expressions.py:73\u001b[0m, in \u001b[0;36m_evaluate_standard\u001b[0;34m(op, op_str, a, b)\u001b[0m\n\u001b[1;32m     71\u001b[0m \u001b[38;5;28;01mif\u001b[39;00m _TEST_MODE:\n\u001b[1;32m     72\u001b[0m     _store_test_result(\u001b[38;5;28;01mFalse\u001b[39;00m)\n\u001b[0;32m---> 73\u001b[0m \u001b[38;5;28;01mreturn\u001b[39;00m \u001b[43mop\u001b[49m\u001b[43m(\u001b[49m\u001b[43ma\u001b[49m\u001b[43m,\u001b[49m\u001b[43m \u001b[49m\u001b[43mb\u001b[49m\u001b[43m)\u001b[49m\n",
      "\u001b[0;31mTypeError\u001b[0m: '<' not supported between instances of 'float' and 'dict'"
     ]
    }
   ],
   "source": [
    "#Esto puede conseguirse dando un valor umbral para obtener todas las poses catalíticas que cumplan un valor específico para la métrica común y \n",
    "#obteniendo las que tengan la mejor puntuación Glide. Sin embargo, no siempre ocurre que todas las ejecuciones de docking (es decir, para cada \n",
    "#combinación de proteína y ligando) produzcan distancias razonables. En este caso, muchos resultados de docking quedarían fuera si los umbrales de \n",
    "#distancia empleados fueran demasiado restrictivos. Una forma de solventar esto sería seleccionar un umbral de distancia pequeño, elegir los mejores \n",
    "#modelos que lo cumplieran y, a continuación, aumentar este umbral en una pequeña cantidad para reunir los mejores modelos que contengan distancias \n",
    "#métricas ligeramente grandes. Si repetimos esto de forma iterativa, podríamos obtener los mejores modelos posibles para todas las ejecuciones de \n",
    "#acoplamiento sin comprometer nuestra elección utilizando un umbral mayor para poses con valores métricos ya buenos.\n",
    "\n",
    "#Por suerte, este proceso se ha automatizado en la biblioteca para que la selección de acoplamiento pueda llevarse a cabo fácilmente:\n",
    "\n",
    "best_poses = models.getBestDockingPosesIteratively(metric_distances)\n",
    "best_poses\n",
    "\n",
    "#Para usar el método, tan solo debemos aportarle el diccionario con las métricas. El método define el proceso de iteración en base a los \n",
    "#siguientes keywords: min_threshold = 3.5, max_threshold = 5.0 y step_size = 0.1\n",
    "\n",
    "#Las mejores poses así seleccionadas se devuelven como  pandas DF y se utilizan para configurar el cálculo final de PELE."
   ]
  },
  {
   "cell_type": "markdown",
   "id": "b613c260-e5d8-4db8-b735-84962f3f2e1d",
   "metadata": {},
   "source": [
    "### Extracción mejores poses"
   ]
  },
  {
   "cell_type": "code",
   "execution_count": null,
   "id": "e130daa4-4113-478f-8bef-08c5ee7a0d68",
   "metadata": {},
   "outputs": [],
   "source": [
    "#Podemos extraer un subconjunto de poses de docking dando un pandas DF filtrado al método extractDockingPoses(). \n",
    "#En nuestro caso, usamos el marco de datos 'best_poses' que contiene una pose por cada ejecución de docking.\n",
    "\n",
    "models.extractDockingPoses(best_poses, 'docking', 'best_poses', separator='@')\n",
    "\n",
    "#Las entradas son el marco de datos filtrado, la carpeta 'docking' y la carpeta donde almacenar las poses. Los nombres de los archivos se \n",
    "#darán como una combinación entre model_name+ligand+docking_pose y separados con el símbolo proporcionado en la palabra clave 'separator'. \n",
    "#Se emitirá una advertencia si el nombre de la proteína o del ligando contiene el separador en su nombre."
   ]
  },
  {
   "cell_type": "markdown",
   "id": "2369f02b-a40b-4f3e-9dc2-4a30b0a004bc",
   "metadata": {},
   "source": [
    "### PELE"
   ]
  },
  {
   "cell_type": "code",
   "execution_count": null,
   "id": "a541f497-b7b6-46cb-a987-506fccb357d3",
   "metadata": {},
   "outputs": [],
   "source": [
    "#Una vez extraídas las poses de acoplamiento, el último paso es configurar las carpetas de cálculo PELE, los archivos y los scripts slurm. \n",
    "#El método necesita la carpeta donde almacenar la información de cálculo ('pele'), la carpeta que contiene las poses de docking ('best_poses'), \n",
    "#y un archivo YAML de entrada que contenga los detalles del protocolo de la plataforma PELE. También damos a nuestro diccionario atom_pairs para \n",
    "#calcular las mismas distancias empleadas en nuestro análisis de docking, por lo que se calculan a lo largo de la simulación PELE.\n",
    "\n",
    "#Dado que el índice de ligando en nuestras poses de docking es cero, cambiamos el índice de ligando por defecto (1) con la palabra clave \n",
    "#ligand_index. Por último, como cambiamos el separador al escribir las poses de docking, tenemos que hacer que el método setUpPELECalculation() \n",
    "#sea consciente utilizando de nuevo la palabra clave 'separator'.\n",
    "\n",
    "jobs = models.setUpPELECalculation('pele', 'best_poses/', 'input.yaml', distances=atom_pairs, ligand_index=0, separator='@')\n",
    "\n",
    "#Los comandos generados por este método son ligeramente diferentes a los de otras funciones. Sin embargo, pueden procesarse rápidamente empleando ç\n",
    "#el método setUpPELEForMarenostrum() dentro de la biblioteca bsc_calculations.\n",
    "\n",
    "bsc_calculations.marenostrum.setUpPELEForMarenostrum(jobs)"
   ]
  }
 ],
 "metadata": {
  "kernelspec": {
   "display_name": "Python 3 (ipykernel)",
   "language": "python",
   "name": "python3"
  },
  "language_info": {
   "codemirror_mode": {
    "name": "ipython",
    "version": 3
   },
   "file_extension": ".py",
   "mimetype": "text/x-python",
   "name": "python",
   "nbconvert_exporter": "python",
   "pygments_lexer": "ipython3",
   "version": "3.10.15"
  }
 },
 "nbformat": 4,
 "nbformat_minor": 5
}
