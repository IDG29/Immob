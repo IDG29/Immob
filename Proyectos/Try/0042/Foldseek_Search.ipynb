{
 "cells": [
  {
   "cell_type": "code",
   "execution_count": 2,
   "id": "43771ca8-c205-435a-9f17-cb2ed217809b",
   "metadata": {},
   "outputs": [],
   "source": [
    "from bioprospecting import structural_search\n",
    "from bioprospecting import alignment\n",
    "from bioprospecting import PDB \n",
    "import os\n",
    "import shutil\n",
    "import glob\n",
    "import pandas as pd\n",
    "from Bio import PDB as pdb\n"
   ]
  },
  {
   "cell_type": "code",
   "execution_count": 6,
   "id": "d6783083-442a-4964-a27e-84acb03d92bd",
   "metadata": {},
   "outputs": [
    {
     "name": "stdout",
     "output_type": "stream",
     "text": [
      "Accediendo a directorio /home/idg29/BSC/Immob/Proyectos/CBMs/CAZY/all_cbm_clusters/0042_P01683.\n",
      "El archivo P01618.pdb ha sido movido al directorio de trabajo.\n"
     ]
    }
   ],
   "source": [
    "folder = os.getcwd()\n",
    "\n",
    "cluster_srch = folder.split(\"/\")[-1]\n",
    "path = f\"/home/idg29/BSC/Immob/Proyectos/CBMs/CAZY/all_cbm_clusters/{cluster_srch}_*\"\n",
    "\n",
    "matching_folders = glob.glob(path)\n",
    "\n",
    "if matching_folders:\n",
    "    target = matching_folders[0]\n",
    "    sorted_files = sorted(os.listdir(target))\n",
    "    my_file = sorted_files[0]\n",
    "\n",
    "    print(f\"Accediendo a directorio {target}.\")\n",
    "    pdb_path = os.path.join(target, my_file)\n",
    "    \n",
    "    shutil.copy(pdb_path, folder)\n",
    "    print(f\"El archivo {my_file} ha sido movido al directorio de trabajo.\")\n",
    "    new_path = os.path.join(folder, my_file)   "
   ]
  },
  {
   "cell_type": "code",
   "execution_count": 13,
   "id": "d865abda-36ea-4bc1-8266-a4dbc823b093",
   "metadata": {},
   "outputs": [
    {
     "name": "stdout",
     "output_type": "stream",
     "text": [
      "Output folder has been generated. Execute command.sh to run foldseek.\n"
     ]
    }
   ],
   "source": [
    "FS_search = structural_search.foldseek.runEasySearch(target_pdb=new_path, output_folder=\"FoldSeek_Search\", db=\"/home/bubbles/foldseek_databases/afsp\", max_seqs=1000000, overwrite=True)"
   ]
  },
  {
   "cell_type": "code",
   "execution_count": 21,
   "id": "5b753d99-6fc5-478b-ae99-dbc8a2d32c06",
   "metadata": {},
   "outputs": [],
   "source": [
    "path = \"/home/idg29/BSC/Immob/Proyectos/Try/0042/FoldSeek_Search/fs_output2.txt\"\n",
    "\n",
    "pdb_id = pd.read_csv(path, sep = \"\\t\")\n",
    "\n",
    "pdb_id.columns=[\"OG_Structure\", \"PDB_id\", \"C1\", \"C2\", \"C3\", \"C4\", \"C5\", \"OG_Seq\", \"Sim_Seq\"]"
   ]
  },
  {
   "cell_type": "code",
   "execution_count": 22,
   "id": "e453bce1-4a57-4be4-9837-b5d3d79161c6",
   "metadata": {},
   "outputs": [],
   "source": [
    "#Dicionario con PDB_ID, Cadena de interés y secuencia.\n",
    "pdb_dic = {}\n",
    "pdb_list = []\n",
    "for ident in pdb_id[\"PDB_id\"]:\n",
    "    chain = (ident[-1])\n",
    "    pdb_dic[ident]={}\n",
    "    for seq in pdb_id.loc[pdb_id[\"PDB_id\"]==ident][\"Sim_Seq\"]:\n",
    "        pdb_dic[ident][chain]=seq\n",
    "\n",
    "#Lista tan solo de los PDB_ID\n",
    "for PDB_ident in pdb_dic:\n",
    "    pdb_list.append((PDB_ident[:4]).upper())\n",
    "    "
   ]
  },
  {
   "cell_type": "code",
   "execution_count": 23,
   "id": "b2bc53a7-bbbf-4d62-8ce4-73c60570911d",
   "metadata": {},
   "outputs": [
    {
     "data": {
      "text/plain": [
       "11847"
      ]
     },
     "execution_count": 23,
     "metadata": {},
     "output_type": "execute_result"
    }
   ],
   "source": [
    "len(pdb_dic)"
   ]
  },
  {
   "cell_type": "code",
   "execution_count": null,
   "id": "6d573f2f-62ab-4a11-8d70-259dc74b3418",
   "metadata": {},
   "outputs": [],
   "source": [
    "#Descargar PDBs\n",
    "Dwnld_PDBS = PDB.retrievePDBs(pdb_list)"
   ]
  },
  {
   "cell_type": "code",
   "execution_count": 11,
   "id": "6296fe3c-70d2-47d4-b087-7ae2bb0c6c92",
   "metadata": {},
   "outputs": [],
   "source": [
    "#Obtener tan solo las cadenas deseadas\n",
    "PDB_fold = \"/home/ivan/BSC/Immob/Proyectos/Try/0042/PDB\"\n",
    "\n",
    "if not os.path.exists(PDB_fold+\"/PDB_Chain_Select\"):\n",
    "    os.mkdir(PDB_fold+\"/PDB_Chain_Select\")\n",
    "\n",
    "parser = pdb.PDBParser(QUIET=True)\n",
    "for PDBB in os.listdir(PDB_fold):\n",
    "    if PDBB.endswith(\".pdb\"):\n",
    "        for key in pdb_dic:\n",
    "            if (PDBB.split(\".\")[0]).lower() in key:                \n",
    "                structure = parser.get_structure(PDBB, os.path.join(PDB_fold, PDBB))\n",
    "                chain_id = (key.split(\".\")[0]).split(\"_\")[-1]\n",
    "                for model in structure:\n",
    "                    for chain in model:\n",
    "                        if chain.id == chain_id:\n",
    "                            new_structure = PDB.chainsAsStructure(chain)\n",
    "                            PDB.saveStructureToPDB(new_structure, output=f\"{PDB_fold}/PDB_Chain_Select/{PDBB.split('.')[0]}_{chain_id}.pdb\")\n"
   ]
  },
  {
   "cell_type": "code",
   "execution_count": 12,
   "id": "d5a1d0b9-58c9-431d-9dda-ea441ac1efec",
   "metadata": {},
   "outputs": [
    {
     "name": "stdout",
     "output_type": "stream",
     "text": [
      "easy-cluster ..//home/ivan/BSC/Immob/Proyectos/Try/0042/PDB/PDB_Chain_Select/ output tmp -e 10.0 -c 0.9 \n",
      "\n",
      "MMseqs Version:                     \t10.941cd33\n",
      "Substitution matrix                 \taa:3di.out,nucl:3di.out\n",
      "Seed substitution matrix            \taa:3di.out,nucl:3di.out\n",
      "Sensitivity                         \t4\n",
      "k-mer length                        \t0\n",
      "Target search mode                  \t0\n",
      "k-score                             \tseq:2147483647,prof:2147483647\n",
      "Max sequence length                 \t65535\n",
      "Max results per query               \t300\n",
      "Split database                      \t0\n",
      "Split mode                          \t2\n",
      "Split memory limit                  \t0\n",
      "Coverage threshold                  \t0.9\n",
      "Coverage mode                       \t0\n",
      "Compositional bias                  \t1\n",
      "Compositional bias                  \t1\n",
      "Diagonal scoring                    \ttrue\n",
      "Exact k-mer matching                \t0\n",
      "Mask residues                       \t0\n",
      "Mask residues probability           \t0.999995\n",
      "Mask lower case residues            \t1\n",
      "Mask lower letter repeating N times \t6\n",
      "Minimum diagonal score              \t30\n",
      "Selected taxa                       \t\n",
      "Spaced k-mers                       \t1\n",
      "Preload mode                        \t0\n",
      "Spaced k-mer pattern                \t\n",
      "Local temporary path                \t\n",
      "Threads                             \t16\n",
      "Compressed                          \t0\n",
      "Verbosity                           \t3\n",
      "TMscore threshold                   \t0\n",
      "TMscore threshold mode              \t0\n",
      "LDDT threshold                      \t0\n",
      "Sort by structure bit score         \t1\n",
      "Alignment type                      \t2\n",
      "Exact TMscore                       \t0\n",
      "Add backtrace                       \tfalse\n",
      "Alignment mode                      \t0\n",
      "Alignment mode                      \t0\n",
      "E-value threshold                   \t10\n",
      "Seq. id. threshold                  \t0\n",
      "Min alignment length                \t0\n",
      "Seq. id. mode                       \t0\n",
      "Alternative alignments              \t0\n",
      "Max reject                          \t2147483647\n",
      "Max accept                          \t2147483647\n",
      "Gap open cost                       \taa:10,nucl:10\n",
      "Gap extension cost                  \taa:1,nucl:1\n",
      "TMalign hit order                   \t0\n",
      "TMalign fast                        \t1\n",
      "Cluster mode                        \t0\n",
      "Max connected component depth       \t1000\n",
      "Similarity type                     \t2\n",
      "Weight file name                    \t\n",
      "Cluster Weight threshold            \t0.9\n",
      "Single step clustering              \tfalse\n",
      "Cascaded clustering steps           \t3\n",
      "Cluster reassign                    \tfalse\n",
      "Remove temporary files              \ttrue\n",
      "Force restart with latest tmp       \tfalse\n",
      "MPI runner                          \t\n",
      "k-mers per sequence                 \t21\n",
      "Scale k-mers per sequence           \taa:0.000,nucl:0.200\n",
      "Adjust k-mer length                 \tfalse\n",
      "Shift hash                          \t67\n",
      "Include only extendable             \tfalse\n",
      "Skip repeating k-mers               \tfalse\n",
      "Rescore mode                        \t0\n",
      "Remove hits by seq. id. and coverage\tfalse\n",
      "Sort results                        \t0\n",
      "Use GPU                             \t0\n",
      "Path to ProstT5                     \t\n",
      "Chain name mode                     \t0\n",
      "Createdb extraction mode            \t0\n",
      "Interface distance threshold        \t8\n",
      "Write mapping file                  \t0\n",
      "Mask b-factor threshold             \t0\n",
      "Coord store mode                    \t2\n",
      "Write lookup file                   \t1\n",
      "Input format                        \t0\n",
      "File Inclusion Regex                \t.*\n",
      "File Exclusion Regex                \t^$\n",
      "\n"
     ]
    },
    {
     "name": "stderr",
     "output_type": "stream",
     "text": [
      "Input ..//home/ivan/BSC/Immob/Proyectos/Try/0042/PDB/PDB_Chain_Select/ does not exist\n"
     ]
    },
    {
     "ename": "FileNotFoundError",
     "evalue": "[Errno 2] No such file or directory: 'Clustering_Folder/output_cluster.tsv'",
     "output_type": "error",
     "traceback": [
      "\u001b[0;31m---------------------------------------------------------------------------\u001b[0m",
      "\u001b[0;31mFileNotFoundError\u001b[0m                         Traceback (most recent call last)",
      "Cell \u001b[0;32mIn[12], line 1\u001b[0m\n\u001b[0;32m----> 1\u001b[0m \u001b[43malignment\u001b[49m\u001b[38;5;241;43m.\u001b[39;49m\u001b[43mfoldseek\u001b[49m\u001b[38;5;241;43m.\u001b[39;49m\u001b[43mstructuralClustering\u001b[49m\u001b[43m(\u001b[49m\u001b[43mjob_folder\u001b[49m\u001b[38;5;241;43m=\u001b[39;49m\u001b[38;5;124;43m\"\u001b[39;49m\u001b[38;5;124;43mClustering_Folder\u001b[39;49m\u001b[38;5;124;43m\"\u001b[39;49m\u001b[43m,\u001b[49m\u001b[43m \u001b[49m\u001b[43mmodels_folder\u001b[49m\u001b[38;5;241;43m=\u001b[39;49m\u001b[38;5;124;43m\"\u001b[39;49m\u001b[38;5;124;43m/home/ivan/BSC/Immob/Proyectos/Try/0042/PDB/PDB_Chain_Select/\u001b[39;49m\u001b[38;5;124;43m\"\u001b[39;49m\u001b[43m)\u001b[49m\n",
      "File \u001b[0;32m~/anaconda3/envs/BSC/lib/python3.10/site-packages/bioprospecting/alignment/_foldseek_functions.py:127\u001b[0m, in \u001b[0;36mfoldseek.structuralClustering\u001b[0;34m(job_folder, models_folder, output_structures, c, cov_mode, evalue, stderr, stdout, remove_temp_folders, get_msa, msa_target, single_step_clustering, cluster_reassign, overwrite)\u001b[0m\n\u001b[1;32m    125\u001b[0m \u001b[38;5;66;03m# Read clustering output file\u001b[39;00m\n\u001b[1;32m    126\u001b[0m clusters \u001b[38;5;241m=\u001b[39m {}\n\u001b[0;32m--> 127\u001b[0m \u001b[38;5;28;01mwith\u001b[39;00m \u001b[38;5;28;43mopen\u001b[39;49m\u001b[43m(\u001b[49m\u001b[43mjob_folder\u001b[49m\u001b[38;5;241;43m+\u001b[39;49m\u001b[38;5;124;43m'\u001b[39;49m\u001b[38;5;124;43m/output_cluster.tsv\u001b[39;49m\u001b[38;5;124;43m'\u001b[39;49m\u001b[43m)\u001b[49m \u001b[38;5;28;01mas\u001b[39;00m f:\n\u001b[1;32m    128\u001b[0m     \u001b[38;5;28;01mfor\u001b[39;00m l \u001b[38;5;129;01min\u001b[39;00m f:\n\u001b[1;32m    129\u001b[0m         centroid \u001b[38;5;241m=\u001b[39m l\u001b[38;5;241m.\u001b[39msplit()[\u001b[38;5;241m0\u001b[39m]\u001b[38;5;241m.\u001b[39mreplace(\u001b[38;5;124m'\u001b[39m\u001b[38;5;124m.pdb\u001b[39m\u001b[38;5;124m'\u001b[39m, \u001b[38;5;124m'\u001b[39m\u001b[38;5;124m'\u001b[39m)\n",
      "\u001b[0;31mFileNotFoundError\u001b[0m: [Errno 2] No such file or directory: 'Clustering_Folder/output_cluster.tsv'"
     ]
    }
   ],
   "source": [
    "alignment.foldseek.structuralClustering(job_folder=\"Clustering_Folder\", models_folder=\"/home/ivan/BSC/Immob/Proyectos/Try/0042/PDB/PDB_Chain_Select/\")\n"
   ]
  },
  {
   "cell_type": "code",
   "execution_count": null,
   "id": "ae626fda-5bd9-4529-ae3a-c5cda911d64e",
   "metadata": {},
   "outputs": [],
   "source": []
  }
 ],
 "metadata": {
  "kernelspec": {
   "display_name": "Python 3 (ipykernel)",
   "language": "python",
   "name": "python3"
  },
  "language_info": {
   "codemirror_mode": {
    "name": "ipython",
    "version": 3
   },
   "file_extension": ".py",
   "mimetype": "text/x-python",
   "name": "python",
   "nbconvert_exporter": "python",
   "pygments_lexer": "ipython3",
   "version": "3.10.15"
  }
 },
 "nbformat": 4,
 "nbformat_minor": 5
}
