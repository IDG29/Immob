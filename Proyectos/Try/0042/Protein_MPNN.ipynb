{
 "cells": [
  {
   "cell_type": "code",
   "execution_count": 2,
   "id": "fdcaad77-119e-475d-b085-a4929f0cb4f4",
   "metadata": {},
   "outputs": [],
   "source": [
    "from bioprospecting import predictions"
   ]
  },
  {
   "cell_type": "code",
   "execution_count": 32,
   "id": "f2276222-9123-4f83-85c3-baf3eaa63b78",
   "metadata": {},
   "outputs": [],
   "source": [
    "SetUp = predictions.proteinMPNN.setUPProteinMPNNCalculations(job_folder=\"ProMPNN_jobs\", \n",
    "pdbs_folder=\"/home/ivan/BSC/Immob/Proyectos/Try/0042/PDB/PDB_Chain_Select/\", score_only=False, evaluate_pdb_sequence=False, num_seq_per_target=1, ignore_residues=(\"HOH\", \"0D8\", \"12P\", \"144\", \"15P\", \"1GP\", \"1PC\", \"1PE\", \"1PG\", \"1WE\", \"1WF\", \"2M5\", \"2M9\", \"2PE\", \"3X9\", \"41M\", \"43Y\", \"44E\", \"44G\", \"4CC\", \"4HT\", \"4IB\", \"4NB\", \"4OO\", \"4TJ\", \"57S\", \"5CT\", \"6GN\", \"6GQ\", \"70E\", \"7GW\", \"7MT\", \"7V7\", \"88Q\", \"88T\", \"8EU\", \"8J8\", \"8SK\", \"91S\", \"9EG\", \"AB0\", \"ACE\", \"ACM\", \"ACT\", \"ACY\", \"AE2\", \"AE3\", \"AIC\", \"AML\", \"AN1\", \"ARF\", \"ARG\", \"ASP\", \"ATP\", \"AZI\", \"B40\", \"B41\", \"BCG\", \"BDU\", \"BEN\", \"BEZ\", \"BGC\", \"BMA\", \"BNG\", \"BPN\", \"BR\", \"BTB\", \"BTN\", \"BU2\", \"BU3\", \"BUD\", \"BZH\", \"CA\", \"CAC\", \"CAD\", \"CD\", \"CEQ\", \"CFF\", \"CIT\", \"CL\", \"CLM\", \"CLR\", \"CO\", \"CO3\", \"COC\", \"CPD\", \"CRO\", \"CRQ\", \"CS\", \"CSD\", \"CSO\", \"CSX\", \"CU\", \"CXS\", \"CYS\", \"D3D\", \"DEP\", \"DGX\", \"DI\", \"DIK\", \"DMG\", \"DMS\", \"DO3\", \"DOE\", \"DOF\", \"DOG\", \"DV7\", \"E9R\", \"ECO\", \"EDO\", \"EDT\", \"END\", \"ENE\", \"ENH\", \"EOH\", \"EOT\", \"EPE\", \"EST\", \"ETE\", \"ETX\", \"FD0\", \"FE\", \"FLC\", \"FLU\", \"FME\", \"FMT\", \"FNZ\", \"FRA\", \"FTR\", \"FUC\", \"FUR\", \"FVP\", \"GA4\", \"GAS\", \"GD\", \"GD3\", \"GFN\", \"GLC\", \"GLU\", \"GLY\", \"GOL\", \"GSH\", \"H6P\", \"HAL\", \"HAN\", \"HAZ\", \"HBC\", \"HCY\", \"HD4\", \"HEP\", \"HG\", \"HIP\", \"HOP\", \"IAS\", \"IMD\", \"IOD\", \"IPA\", \"IPH\", \"IUM\", \"JEF\", \"K\", \"KDO\", \"KHA\", \"KO2\", \"KSD\", \"KW7\", \"LDA\", \"LHG\", \"LI\", \"LTX\", \"M3L\", \"M6P\", \"MAN\", \"MES\", \"MG\", \"MGS\", \"MLA\", \"MLI\", \"MLT\", \"MLY\", \"MMA\", \"MMP\", \"MN\", \"MOH\", \"MOI\", \"MPD\", \"MRY\", \"MSE\", \"MT1\", \"MTX\", \"NA\", \"NAG\", \"NCH\", \"NCO\", \"NCT\", \"NDG\", \"NDP\", \"NEP\", \"NES\", \"NGA\", \"NH4\", \"NHE\", \"NI\", \"NKN\", \"NLD\", \"NO3\", \"NO8\", \"NON\", \"NOX\", \"NP\", \"NPA\", \"NPC\", \"NPE\", \"NPO\", \"NPP\", \"NXD\", \"O2W\", \"O4B\", \"OA8\", \"OAB\", \"OAS\", \"OAZ\", \"OBE\", \"OBN\", \"OCS\", \"OCT\", \"OH\", \"OHM\", \"OLB\", \"OLC\", \"OM4\", \"OMF\", \"OOW\", \"OOX\", \"OS\", \"P0T\", \"P15\", \"P2E\", \"P33\", \"P4S\", \"P6G\", \"PB\", \"PC\", \"PCA\", \"PDO\", \"PE1\", \"PE4\", \"PE7\", \"PE8\", \"PEG\", \"PEU\", \"PG0\", \"PG4\", \"PG5\", \"PG6\", \"PGE\", \"PHX\", \"PIE\", \"PNB\", \"PNE\", \"PNP\", \"PO4\", \"POV\", \"QI9\", \"RAC\", \"RAM\", \"RBF\", \"RR6\", \"S1P\", \"SCN\", \"SEP\", \"SH4\", \"SIA\", \"SIN\", \"SO4\", \"SPB\", \"STG\", \"T5C\", \"TAA\", \"TAM\", \"TAR\", \"TB\", \"TCE\", \"TES\", \"TI0\", \"TIQ\", \"TK4\", \"TLA\", \"TMO\", \"TNS\", \"TOE\", \"TOP\", \"TPM\", \"TPO\", \"TRS\", \"TRZ\", \"TSA\", \"TUA\", \"TYS\", \"UGZ\", \"UNL\", \"UNX\", \"URE\", \"XOP\", \"Y01\", \"Y4K\", \"Y4Q\", \"YCM\", \"YT3\", \"YTZ\", \"YYJ\", \"ZN\", \"UNK\"))"
   ]
  },
  {
   "cell_type": "code",
   "execution_count": null,
   "id": "7b22fbdf-a0f9-4308-9c6c-bf322e6b1720",
   "metadata": {},
   "outputs": [],
   "source": []
  }
 ],
 "metadata": {
  "kernelspec": {
   "display_name": "Python 3 (ipykernel)",
   "language": "python",
   "name": "python3"
  },
  "language_info": {
   "codemirror_mode": {
    "name": "ipython",
    "version": 3
   },
   "file_extension": ".py",
   "mimetype": "text/x-python",
   "name": "python",
   "nbconvert_exporter": "python",
   "pygments_lexer": "ipython3",
   "version": "3.10.15"
  }
 },
 "nbformat": 4,
 "nbformat_minor": 5
}
