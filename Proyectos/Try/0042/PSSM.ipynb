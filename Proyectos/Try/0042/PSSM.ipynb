{
 "cells": [
  {
   "cell_type": "code",
   "execution_count": 21,
   "id": "8259b6d0-7961-49a9-a2c7-e6be638551cd",
   "metadata": {},
   "outputs": [],
   "source": [
    "import bioprospecting\n",
    "from bioprospecting import alignment as ali\n",
    "from Bio import SeqIO\n",
    "from Bio import AlignIO\n",
    "from prepare_proteins import alignment\n",
    "import pandas as pd"
   ]
  },
  {
   "cell_type": "code",
   "execution_count": 2,
   "id": "aaaca52c-c951-45bb-91d5-f7988af5bc86",
   "metadata": {},
   "outputs": [],
   "source": [
    "Seq_Dic = alignment.readFastaFile(\"seqdump.txt\")"
   ]
  },
  {
   "cell_type": "code",
   "execution_count": 3,
   "id": "ba8fdf43-5d13-49a4-a8ef-26083df1fe94",
   "metadata": {},
   "outputs": [],
   "source": [
    "MSA = alignment.mafft.multipleSequenceAlignment(sequences=Seq_Dic, output=\"MSA.txt\", quiet=bool)"
   ]
  },
  {
   "cell_type": "code",
   "execution_count": null,
   "id": "0370a199-1d38-4e14-97b7-e97893cf85c9",
   "metadata": {},
   "outputs": [],
   "source": [
    "PSSM = ali.blast.createPSSM(sequences=MSA, output_file=\"PSSM\")"
   ]
  },
  {
   "cell_type": "code",
   "execution_count": 67,
   "id": "33d5731a-a23a-4da0-9bc5-30a5ea53b822",
   "metadata": {},
   "outputs": [],
   "source": [
    "Parsed_PSSM=ali.blast.parsePSSM(PSSM)"
   ]
  },
  {
   "cell_type": "code",
   "execution_count": 69,
   "id": "5ffeb50a-8dc6-44ee-95a0-a2c9c5dde5ea",
   "metadata": {},
   "outputs": [],
   "source": [
    "df_PSSM = pd.DataFrame(Parsed_PSSM[3], columns=['A', 'R', 'N', 'D', 'C', 'Q', 'E', 'G', 'H', 'I', 'L', 'K', 'M',\n",
    "        'F', 'P', 'S', 'T', 'W', 'Y', 'V'])"
   ]
  },
  {
   "cell_type": "code",
   "execution_count": null,
   "id": "590748bf-00d0-4185-bf56-d3386da4c4f0",
   "metadata": {},
   "outputs": [],
   "source": [
    "pd.set_option('display.max_rows', None)\n",
    "df_PSSM"
   ]
  },
  {
   "cell_type": "code",
   "execution_count": 71,
   "id": "e780b3e7-8dc1-4382-937d-551f5306edb7",
   "metadata": {},
   "outputs": [],
   "source": [
    "aa_interes = [\"W\", \"Y\", \"F\"]\n",
    "dic_aa = {}\n",
    "\n",
    "for i, aa in enumerate(Parsed_PSSM[1]):\n",
    "    if aa in aa_interes:\n",
    "        dic_aa[i+1]={}\n",
    "        dic_aa[i+1][aa]= round((df_PSSM.at[i, aa]), 2) "
   ]
  },
  {
   "cell_type": "code",
   "execution_count": 72,
   "id": "2cdd080f-3e65-43c6-a3b4-fc891640ddd9",
   "metadata": {},
   "outputs": [
    {
     "data": {
      "text/plain": [
       "{32: {'Y': 8},\n",
       " 35: {'W': 12},\n",
       " 36: {'Y': 8},\n",
       " 62: {'F': 8},\n",
       " 71: {'F': 8},\n",
       " 86: {'Y': 8},\n",
       " 87: {'Y': 8},\n",
       " 93: {'F': -2},\n",
       " 94: {'Y': 2},\n",
       " 96: {'Y': 5},\n",
       " 98: {'F': 8}}"
      ]
     },
     "execution_count": 72,
     "metadata": {},
     "output_type": "execute_result"
    }
   ],
   "source": [
    "dic_aa"
   ]
  },
  {
   "cell_type": "code",
   "execution_count": null,
   "id": "0d9e463e-72cf-4f3b-852e-ae6753c5d9ff",
   "metadata": {},
   "outputs": [],
   "source": [
    "# Se seleccionan como aminoácidos aromáticos conservados:\n",
    "#Y - 32\n",
    "#Y - 36\n",
    "#Y - 87\n",
    "#F - 98\n"
   ]
  }
 ],
 "metadata": {
  "kernelspec": {
   "display_name": "Python 3 (ipykernel)",
   "language": "python",
   "name": "python3"
  },
  "language_info": {
   "codemirror_mode": {
    "name": "ipython",
    "version": 3
   },
   "file_extension": ".py",
   "mimetype": "text/x-python",
   "name": "python",
   "nbconvert_exporter": "python",
   "pygments_lexer": "ipython3",
   "version": "3.10.15"
  }
 },
 "nbformat": 4,
 "nbformat_minor": 5
}
