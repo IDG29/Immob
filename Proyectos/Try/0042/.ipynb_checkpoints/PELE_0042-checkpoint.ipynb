{
 "cells": [
  {
   "cell_type": "code",
   "execution_count": 2,
   "id": "e5ebb2dd-2aec-4775-ba0f-17a3a108420e",
   "metadata": {},
   "outputs": [],
   "source": [
    "import prepare_proteins\n",
    "import bsc_calculations\n",
    "import os\n",
    "import shutil\n",
    "from PELE_scripts import pele_analysis"
   ]
  },
  {
   "cell_type": "markdown",
   "id": "d476157b-a26c-4a54-97c2-fdbd2dce270d",
   "metadata": {},
   "source": [
    "#### Crear carpeta para modelos PDB y renombrarlos"
   ]
  },
  {
   "cell_type": "code",
   "execution_count": 2,
   "id": "12299669-15cc-4e02-b299-f7f534f9e60b",
   "metadata": {},
   "outputs": [],
   "source": [
    "if not os.path.exists(\"structures\"):\n",
    "    os.mkdir(\"structures\")\n",
    "rank = 0 \n",
    "for model in os.listdir(\"AF_structures/alphafold/output_models/\"):\n",
    "    if os.path.exists(\"AF_structures/alphafold/output_models/\"+model+\"/ranked_\"+str(rank)+\".pdb\"):\n",
    "        shutil.copyfile(\"AF_structures/alphafold/output_models/\"+model+\"/ranked_\"+str(rank)+\".pdb\", \"structures/\"+model+\".pdb\") #Al hacer esto, no puedo tener múltiples \n",
    "                                                                                                    #modelos de una misma proteina¿? Los sobreescribo¿?"
   ]
  },
  {
   "cell_type": "markdown",
   "id": "31753d32-75fb-4ab9-bd7a-152a9b861389",
   "metadata": {},
   "source": [
    "#### Preparar las proteínas"
   ]
  },
  {
   "cell_type": "code",
   "execution_count": 3,
   "id": "d508a6bf-8a82-49c4-9e2c-040256c8153d",
   "metadata": {},
   "outputs": [
    {
     "name": "stdout",
     "output_type": "stream",
     "text": [
      "<Structure id=GPX_Bacillus-subtilis>\n",
      "<Structure id=GPX_Gossypium-hirsutum>\n",
      "<Structure id=GPX_Lactococcus-lactis>\n",
      "<Structure id=GPX_Neisseria-meningitidis>\n",
      "<Structure id=GPX_Staphylococcus-aureus>\n"
     ]
    }
   ],
   "source": [
    "#La clase proteinModels lee los PDB mediante BioPython como Bio.PDB.Structures. Se obtiene un atributo \"structures\" que se trata de un \n",
    "#diccionario donde --> Key = nombre modelo y Value = Bio.PDB.Object \n",
    "models = prepare_proteins.proteinModels(\"structures\")\n",
    "\n",
    "#Iteramos en el diccionario para obtener el nombre de las estructuras.\n",
    "for model in models:\n",
    "    print(models.structures[model])"
   ]
  },
  {
   "cell_type": "code",
   "execution_count": 12,
   "id": "3f93d3a9-f80d-4aae-b1fd-95fe107f2eb2",
   "metadata": {},
   "outputs": [],
   "source": [
    "#La librería prepare_proteins tiene un metodo para eliminar elementos random terminales de las estructuras de AF usando un confidence score \n",
    "#almacenado en la columna donde generalmente se almacena el B-factor del archivo PDB.\n",
    "\n",
    "models.removeTerminiByConfidenceScore(confidence_threshold=90)"
   ]
  },
  {
   "cell_type": "code",
   "execution_count": 16,
   "id": "1ca13bef-a76a-4b13-8c9b-dd934de1d02c",
   "metadata": {},
   "outputs": [
    {
     "name": "stderr",
     "output_type": "stream",
     "text": [
      "/home/idg29/anaconda3/envs/BSC/lib/python3.10/site-packages/Bio/PDB/PDBParser.py:395: PDBConstructionWarning: Ignoring unrecognized record 'END' at line 2548\n",
      "  warnings.warn(\n",
      "/home/idg29/anaconda3/envs/BSC/lib/python3.10/site-packages/Bio/PDB/PDBParser.py:395: PDBConstructionWarning: Ignoring unrecognized record 'END' at line 2516\n",
      "  warnings.warn(\n",
      "/home/idg29/anaconda3/envs/BSC/lib/python3.10/site-packages/Bio/PDB/PDBParser.py:395: PDBConstructionWarning: Ignoring unrecognized record 'END' at line 2517\n",
      "  warnings.warn(\n",
      "/home/idg29/anaconda3/envs/BSC/lib/python3.10/site-packages/Bio/PDB/PDBParser.py:395: PDBConstructionWarning: Ignoring unrecognized record 'END' at line 2803\n",
      "  warnings.warn(\n",
      "/home/idg29/anaconda3/envs/BSC/lib/python3.10/site-packages/Bio/PDB/PDBParser.py:395: PDBConstructionWarning: Ignoring unrecognized record 'END' at line 2539\n",
      "  warnings.warn(\n"
     ]
    }
   ],
   "source": [
    "#El metodo saveModels guarda los nuevos modelos en una carpeta la cual se especifica su nuevo nombre. \n",
    "models.saveModels(\"trimmed_models\")\n",
    "models = prepare_proteins.proteinModels('trimmed_models/')"
   ]
  },
  {
   "cell_type": "markdown",
   "id": "b9f0f22f-3530-4159-9b27-10ba0e68c0f3",
   "metadata": {},
   "source": [
    "### Alinear estructuras con una referencia "
   ]
  },
  {
   "cell_type": "code",
   "execution_count": 17,
   "id": "8b9906d9-173a-451d-aab0-59219166329e",
   "metadata": {},
   "outputs": [
    {
     "name": "stderr",
     "output_type": "stream",
     "text": [
      "/home/idg29/anaconda3/envs/BSC/lib/python3.10/site-packages/Bio/PDB/PDBParser.py:395: PDBConstructionWarning: Ignoring unrecognized record 'END' at line 2550\n",
      "  warnings.warn(\n",
      "/home/idg29/anaconda3/envs/BSC/lib/python3.10/site-packages/Bio/PDB/PDBParser.py:395: PDBConstructionWarning: Ignoring unrecognized record 'END' at line 2518\n",
      "  warnings.warn(\n",
      "/home/idg29/anaconda3/envs/BSC/lib/python3.10/site-packages/Bio/PDB/PDBParser.py:395: PDBConstructionWarning: Ignoring unrecognized record 'END' at line 2519\n",
      "  warnings.warn(\n",
      "/home/idg29/anaconda3/envs/BSC/lib/python3.10/site-packages/Bio/PDB/PDBParser.py:395: PDBConstructionWarning: Ignoring unrecognized record 'END' at line 2805\n",
      "  warnings.warn(\n",
      "/home/idg29/anaconda3/envs/BSC/lib/python3.10/site-packages/Bio/PDB/PDBParser.py:395: PDBConstructionWarning: Ignoring unrecognized record 'END' at line 2541\n",
      "  warnings.warn(\n"
     ]
    }
   ],
   "source": [
    "# Se alinean las estructuras utilizando una de referencia, con tal de tener un marco estructural común. Se genera una carpeta nueva \n",
    "# llamada \"aligned_models\".\n",
    "\n",
    "models.alignModelsToReferencePDB('trimmed_models/GPX_Bacillus-subtilis.pdb', 'aligned_models', chain_indexes=0)\n",
    "\n",
    "# Las proteínas alineadas se \"preparan\" nuevamente aplicando la librería anterior.\n",
    "models = prepare_proteins.proteinModels('aligned_models/')\n"
   ]
  },
  {
   "cell_type": "markdown",
   "id": "173b0249-2bd5-4cdd-906a-e75a477ba394",
   "metadata": {},
   "source": [
    "### Optimización con Prepwizard"
   ]
  },
  {
   "cell_type": "code",
   "execution_count": 20,
   "id": "02569fb1-6338-4324-944a-476cb95bafe1",
   "metadata": {},
   "outputs": [],
   "source": [
    "#Llamamos al método y generamos carpeta \"prepwizard\" donde guardar estructuras optimizadas.\n",
    "jobs = models.setUpPrepwizardOptimization('prepwizard')\n",
    "\n",
    "#Después de ejecutar el método, este devuelve los comandos que deben ejecutarse para realizar la optimización de Prepwizard en \n",
    "#una máquina equipada con la licencia de software de Schrödinger. \n",
    "#Los comandos pueden pasarse a la biblioteca bsc_calculations para generar los scripts que faciliten la ejecución.\n",
    "\n",
    "bsc_calculations.local.parallel(jobs, cpus=min([40, len(jobs)]))\n",
    "\n",
    "#Pasamos los comandos a la subclase local y definimos de antemano el número de CPUs que queremos usar, de modo que la biblioteca creará un script para \n",
    "#cada CPU que se utilizará. Los archivos de script se llaman commands_?; donde \"?\" representa un número entero que identifica el script individual. \n",
    "#El método también escribe un script llamado commands, que puede lanzar todos los scripts simultáneamente. \n",
    "#Entonces, para ejecutar las optimizaciones, necesitamos cargar la carpeta 'prepwizard' en un clúster con una licencia de Schrödinger y \n",
    "#todos los scripts de comandos.\n",
    "\n",
    "#Para ejecutar los calculos, debemos lanzar \"bash commands\""
   ]
  },
  {
   "cell_type": "code",
   "execution_count": 4,
   "id": "6f7fafff-8357-4c10-863c-dc8c2311adad",
   "metadata": {},
   "outputs": [
    {
     "name": "stderr",
     "output_type": "stream",
     "text": [
      "/home/ivan/anaconda3/envs/BSC/lib/python3.10/site-packages/Bio/PDB/PDBParser.py:416: PDBConstructionWarning: PDBConstructionException: Atom H defined twice in residue <Residue SER het=  resseq=10 icode= > at line 16.\n",
      "Exception ignored.\n",
      "Some atoms or residues may be missing in the data structure.\n",
      "  warnings.warn(\n"
     ]
    }
   ],
   "source": [
    "#Después de optimizar los modelos mediante PrepWizard, debemos descargarlos en la carpeta que contenga también este mismo notebook y cargarlos en la libreria. \n",
    "\n",
    "models.loadModelsFromPrepwizardFolder('prepwizard/')\n",
    "\n",
    "#Después de cargar los modelos en la librería, hay que evaluarlos visualmente. Para ello, se guardan en la carpeta \"prepwizard_models\"\n",
    "\n",
    "models.saveModels('prepwizard_models')"
   ]
  },
  {
   "cell_type": "markdown",
   "id": "d44a2aca-5abf-4b28-a9c4-94c1efa4397a",
   "metadata": {},
   "source": [
    "## Docking Previo Con GLIDE"
   ]
  },
  {
   "cell_type": "code",
   "execution_count": 5,
   "id": "0894a8cd-4432-46b2-9f92-22142c1f121f",
   "metadata": {},
   "outputs": [],
   "source": [
    "#Previo PELE, se deben propner cuales serán las múltilpes conformaciones que tendrá el ligando a la hora de interactuar con la proteína. Para ello, \n",
    "#se realizan docking previos de menor precision mediante programa Glide. Este programa genera un \"cuadricula\" constituida por un cubículo interno que \n",
    "#contiene el ligando y delimita la region central en la que se posiciona y orienta el ligando y el espacio en el que se exploran las posiciones y \n",
    "#orientaciones de este. El cubículo externo define el espacio en el que Glide permite que el ligando se acerque y se mueva antes de entrar en la región \n",
    "#de docking detallada. Asegura que el docking se enfoque en el sitio de unión, pero con la suficiente libertad para que el ligando pueda acomodarse \n",
    "#antes de fijarse en su posición ideal."
   ]
  },
  {
   "cell_type": "markdown",
   "id": "ffe9c858-afea-4782-87b0-9cb7d389db09",
   "metadata": {},
   "source": [
    "### Selección aminoacidos centrales docking"
   ]
  },
  {
   "cell_type": "code",
   "execution_count": 6,
   "id": "721c96f6-26a5-4417-972d-b39882d70217",
   "metadata": {},
   "outputs": [],
   "source": [
    "#Previa elaboración del docking con Glide, al trabajar con proteinas con centros catalíticos semejantes pero con una distribución de los aa \n",
    "#diferente y por ende con índices PDB diferentes para los residuos de interés, se debe realizar un alineamiento múltiple de secuéncia (MSA)previo. \n",
    "#Así pues, dado uno o múltiples aa de interés, mediante el MSA somos capaces de determinar en cada una de las proteínas, que índice adopta los aa\n",
    "#de interés dentro de ellas. \n",
    "\n",
    "#El alineamiento se realiza mediante el método calculateMSA(), basado en el programa mafft.\n",
    "\n",
    "msa = models.calculateMSA()\n",
    "\n",
    "#Para evaluar el MSA, se genera un output con el siguiente comando, de tal manera que el resultado puede ser analizado con programa externo como CHIMERA.\n",
    "\n",
    "prepare_proteins.alignment.writeMsaToFastaFile(msa, 'msa.fasta')"
   ]
  },
  {
   "cell_type": "code",
   "execution_count": 7,
   "id": "a81c8515-b5a5-4246-981d-5437bd72fc93",
   "metadata": {},
   "outputs": [
    {
     "name": "stdout",
     "output_type": "stream",
     "text": [
      "(35, 'C')\n",
      "(64, 'C')\n"
     ]
    }
   ],
   "source": [
    "#Obtener los aa conservados\n",
    "\n",
    "conserved_index = models.getConservedMSAPositions(msa)   #De aquí obtenemos cada átomo conservado en forma de tupla (chain_index, residue_id, X).\n",
    "for c in conserved_index:\n",
    "    if c[1] == 'C':\n",
    "        print(c)    "
   ]
  },
  {
   "cell_type": "code",
   "execution_count": 8,
   "id": "9e3cdf4e-d93f-4caf-924f-fe3192f0a097",
   "metadata": {},
   "outputs": [
    {
     "name": "stdout",
     "output_type": "stream",
     "text": [
      "{'GPX_Bacillus-subtilis': [35], 'GPX_Gossypium-hirsutum': [43], 'GPX_Lactococcus-lactis': [35], 'GPX_Neisseria-meningitidis': [35], 'GPX_Staphylococcus-aureus': [36]}\n"
     ]
    }
   ],
   "source": [
    "#Usamos el índice del MSA para obtener los índices del PDB para todas las proteínas cargadas en la librería\n",
    "\n",
    "aa_index = models.getStructurePositionsFromMSAindexes(35) #Este número se cambia por el índice que toque\n",
    "print(aa_index) #índice del aa de interés en cada modelo (proteína)\n",
    "\n",
    "#Con los índices PDB obtenidos para cada proteína, definimos el centro del cubículo de Glide"
   ]
  },
  {
   "cell_type": "markdown",
   "id": "17d47a7b-5a73-4125-a53b-4ca0fca85206",
   "metadata": {},
   "source": [
    "### Preparación del cubículo para Glide"
   ]
  },
  {
   "cell_type": "code",
   "execution_count": 9,
   "id": "0364c433-3b4a-483c-b2d6-0dbb056b012f",
   "metadata": {},
   "outputs": [],
   "source": [
    "#Se define el centro del cubículo como el aa de interés, descrito como GC (grid center). Generamos un diccionario con 3 elementos\n",
    "# (chain_id, residue_id, atom_name). Se usa Bio.PDB.Structures para interar los modelos y recopilar toda esta información de forma segura. \n",
    "\n",
    "aa_center_atom = {} # Create dictionary to store the atom 3-element tuple for each model\n",
    "for model in models: # Iterate the models inside the library\n",
    "    for r in models.structures[model].get_residues(): # Iterate the residues for each Bio.PDB.Structure object\n",
    "        if r.id[1] == aa_index[model][0]: # Check that the residue matches the defined index\n",
    "            assert r.resname == 'CYS', f\"Residuo en el modelo {model} y residuo {r.id[1]} no es CYS, sino {r.resname}\" # Assert that the residue has the correct residue identity. Assert devuelve un booleano True si se cumple la condición\n",
    "                                      # de lo contrario devuelve un \"AssertError\"\n",
    "            aa_center_atom[model] = (r.get_parent().id, r.id[1], 'SG') # Store the corresponsing tuple."
   ]
  },
  {
   "cell_type": "code",
   "execution_count": 10,
   "id": "0ec08be0-a159-4820-b4ec-381ed0179584",
   "metadata": {},
   "outputs": [
    {
     "name": "stdout",
     "output_type": "stream",
     "text": [
      "{'GPX_Bacillus-subtilis': ('A', 35, 'SG'), 'GPX_Gossypium-hirsutum': ('A', 43, 'SG'), 'GPX_Lactococcus-lactis': ('A', 35, 'SG'), 'GPX_Neisseria-meningitidis': ('A', 35, 'SG'), 'GPX_Staphylococcus-aureus': ('A', 36, 'SG')}\n"
     ]
    }
   ],
   "source": [
    "print(aa_center_atom)"
   ]
  },
  {
   "cell_type": "code",
   "execution_count": 13,
   "id": "90772528-cfa0-40f1-a2a3-56274d6e1eca",
   "metadata": {},
   "outputs": [],
   "source": [
    "#Un vez descrito el centro del grid, se crea la carpeta para los resultados de Glide y los script para lanzar los calculos que permitan ubicar el \n",
    "#grid en la proteína.\n",
    "\n",
    "jobs = models.setUpDockingGrid('grid', aa_center_atom) # Set grid calcualtion. El méotodo necesita el nombre de la carpeta donde almacenar los calculos \n",
    "                                                        # y, el diccionario con los centros.\n",
    "bsc_calculations.local.parallel(jobs, cpus=min([40, len(jobs)])) # Write the scripts to run them locally.\n"
   ]
  },
  {
   "cell_type": "markdown",
   "id": "fada6023-4847-46ee-b03a-6d61e1f7318f",
   "metadata": {},
   "source": [
    "### Realizar Glide Docking"
   ]
  },
  {
   "cell_type": "code",
   "execution_count": 14,
   "id": "791d77f6-7445-4f9b-a0e4-9ef0c2707adc",
   "metadata": {},
   "outputs": [],
   "source": [
    "#Una vez ubicado el cubículo en los diferentes modelos de las proteínas, es necesario disponer de un ligando del cual estudiar el docking.abs\n",
    "#Para ello, mediante la aplicación online de \"Maestro 2D sketcher\" podemos diseñar el ligando y guardarlo como archiovo \".mae\" en el directorio \n",
    "#de este proyecto. En caso de descargar el ligando desde PDB en dicho formato, se utiliza el siguiente método para convertir todos los \n",
    "#ligandos presentes en una carpeta determinada a \".mae\"\n",
    "\n",
    "models.convertLigandPDBtoMae('ligands') #\"ligands\" es la carpeta que contiene inicialmente los ligandos en formato PDB."
   ]
  },
  {
   "cell_type": "code",
   "execution_count": 15,
   "id": "b07b6823-7cd1-4ac5-94ad-29aaba7bd6db",
   "metadata": {},
   "outputs": [],
   "source": [
    "#Con el cubículo establecido y los ligandos preparados, se puede iniciar el docking.\n",
    "\n",
    "jobs = models.setUpGlideDocking('docking', 'grid', 'ligands', poses_per_lig=100) #poses_per_lig hace referencia al número de trayectorias de docking\n",
    "bsc_calculations.local.parallel(jobs, cpus=min([40, len(jobs)]))\n",
    "\n",
    "#Tras ejecutar y descargar los resultados del acoplamiento, pueden analizarse para extraer las mejores poses y introducirlas a PELE.\n",
    "\n",
    "#Las mejores poses se seleccionaran mediante el \"GlideScore\". sin embargo, en muchas ocasiones, también podemos querer filtrar las poses por \n",
    "#diferentes distancias proteína-ligando que representen las mejores conformaciones según lo que pretendamos simular. \n",
    "#Para estudiar esta sesgunda opción, en primer lugar, construimos un diccionario que contiene las distancias de acoplamiento que queremos calcular \n",
    "#a partir de las conformaciones generadas por el cálculo de acoplamiento de Glide. Este diccionario (atom_pairs) es un diccionario doblemente \n",
    "#anidado que debe ir primero para todos los modelos de proteínas y luego para todos los ligandos que fueron acoplados."
   ]
  },
  {
   "cell_type": "code",
   "execution_count": 11,
   "id": "d7c374fd-e230-470f-8b41-f1cc35dcb7a8",
   "metadata": {},
   "outputs": [
    {
     "data": {
      "text/plain": [
       "{'GPX_Bacillus-subtilis': {'GSH': [(('A', 35, 'SG'), 'S1')]},\n",
       " 'GPX_Gossypium-hirsutum': {'GSH': [(('A', 43, 'SG'), 'S1')]},\n",
       " 'GPX_Lactococcus-lactis': {'GSH': [(('A', 35, 'SG'), 'S1')]},\n",
       " 'GPX_Neisseria-meningitidis': {'GSH': [(('A', 35, 'SG'), 'S1')]},\n",
       " 'GPX_Staphylococcus-aureus': {'GSH': [(('A', 36, 'SG'), 'S1')]}}"
      ]
     },
     "execution_count": 11,
     "metadata": {},
     "output_type": "execute_result"
    }
   ],
   "source": [
    "atom_pairs = {}\n",
    "for model in models:\n",
    "    atom_pairs[model] = {}\n",
    "    for ligand in [\"GSH\"]: #Siendo \"x\" ¿carpeta con poses del ligando estudiadas en Glide?\n",
    "        atom_pairs[model][ligand] = []\n",
    "        atom_pairs[model][ligand].append((aa_center_atom[model], \"S1\")) #Siendo \"x\" un átomo del ligando del cual se estudia el docking\n",
    "atom_pairs    "
   ]
  },
  {
   "cell_type": "code",
   "execution_count": 12,
   "id": "96ca000f-5f7e-4b99-a138-feb46db082df",
   "metadata": {},
   "outputs": [
    {
     "name": "stdout",
     "output_type": "stream",
     "text": [
      "0 of 5 models failed (0.00)\n",
      "\n",
      "\n",
      "Finished processing models\n"
     ]
    }
   ],
   "source": [
    "#Ahora podemos utilizar este diccionario como entrada para nuestro análisis de acoplamiento:\n",
    "\n",
    "models.analyseDocking(docking_folder='docking', atom_pairs=atom_pairs, separator=\"·\")"
   ]
  },
  {
   "cell_type": "code",
   "execution_count": 13,
   "id": "d29b3249-9603-4d48-a389-f770876297f0",
   "metadata": {},
   "outputs": [
    {
     "data": {
      "text/html": [
       "<div>\n",
       "<style scoped>\n",
       "    .dataframe tbody tr th:only-of-type {\n",
       "        vertical-align: middle;\n",
       "    }\n",
       "\n",
       "    .dataframe tbody tr th {\n",
       "        vertical-align: top;\n",
       "    }\n",
       "\n",
       "    .dataframe thead th {\n",
       "        text-align: right;\n",
       "    }\n",
       "</style>\n",
       "<table border=\"1\" class=\"dataframe\">\n",
       "  <thead>\n",
       "    <tr style=\"text-align: right;\">\n",
       "      <th></th>\n",
       "      <th></th>\n",
       "      <th></th>\n",
       "      <th>Score</th>\n",
       "      <th>RMSD</th>\n",
       "      <th>SASA</th>\n",
       "    </tr>\n",
       "    <tr>\n",
       "      <th>Protein</th>\n",
       "      <th>Ligand</th>\n",
       "      <th>Pose</th>\n",
       "      <th></th>\n",
       "      <th></th>\n",
       "      <th></th>\n",
       "    </tr>\n",
       "  </thead>\n",
       "  <tbody>\n",
       "    <tr>\n",
       "      <th rowspan=\"5\" valign=\"top\">GPX_Gossypium-hirsutum</th>\n",
       "      <th rowspan=\"5\" valign=\"top\">GSH</th>\n",
       "      <th>1</th>\n",
       "      <td>-4.859803</td>\n",
       "      <td>0.000000</td>\n",
       "      <td>267.645222</td>\n",
       "    </tr>\n",
       "    <tr>\n",
       "      <th>2</th>\n",
       "      <td>-4.686626</td>\n",
       "      <td>0.130987</td>\n",
       "      <td>267.053850</td>\n",
       "    </tr>\n",
       "    <tr>\n",
       "      <th>3</th>\n",
       "      <td>-4.614838</td>\n",
       "      <td>0.113646</td>\n",
       "      <td>274.019230</td>\n",
       "    </tr>\n",
       "    <tr>\n",
       "      <th>4</th>\n",
       "      <td>-4.604422</td>\n",
       "      <td>0.147661</td>\n",
       "      <td>279.481702</td>\n",
       "    </tr>\n",
       "    <tr>\n",
       "      <th>5</th>\n",
       "      <td>-4.509470</td>\n",
       "      <td>0.182394</td>\n",
       "      <td>266.215747</td>\n",
       "    </tr>\n",
       "    <tr>\n",
       "      <th>...</th>\n",
       "      <th>...</th>\n",
       "      <th>...</th>\n",
       "      <td>...</td>\n",
       "      <td>...</td>\n",
       "      <td>...</td>\n",
       "    </tr>\n",
       "    <tr>\n",
       "      <th rowspan=\"5\" valign=\"top\">GPX_Lactococcus-lactis</th>\n",
       "      <th rowspan=\"5\" valign=\"top\">GSH</th>\n",
       "      <th>86</th>\n",
       "      <td>-2.265739</td>\n",
       "      <td>1.078870</td>\n",
       "      <td>305.293448</td>\n",
       "    </tr>\n",
       "    <tr>\n",
       "      <th>87</th>\n",
       "      <td>-2.265240</td>\n",
       "      <td>0.995020</td>\n",
       "      <td>324.482972</td>\n",
       "    </tr>\n",
       "    <tr>\n",
       "      <th>88</th>\n",
       "      <td>-2.242420</td>\n",
       "      <td>1.069546</td>\n",
       "      <td>330.534730</td>\n",
       "    </tr>\n",
       "    <tr>\n",
       "      <th>89</th>\n",
       "      <td>-2.160199</td>\n",
       "      <td>0.552991</td>\n",
       "      <td>264.245197</td>\n",
       "    </tr>\n",
       "    <tr>\n",
       "      <th>90</th>\n",
       "      <td>-2.146963</td>\n",
       "      <td>1.074284</td>\n",
       "      <td>301.537921</td>\n",
       "    </tr>\n",
       "  </tbody>\n",
       "</table>\n",
       "<p>462 rows × 3 columns</p>\n",
       "</div>"
      ],
      "text/plain": [
       "                                       Score      RMSD        SASA\n",
       "Protein                Ligand Pose                                \n",
       "GPX_Gossypium-hirsutum GSH    1    -4.859803  0.000000  267.645222\n",
       "                              2    -4.686626  0.130987  267.053850\n",
       "                              3    -4.614838  0.113646  274.019230\n",
       "                              4    -4.604422  0.147661  279.481702\n",
       "                              5    -4.509470  0.182394  266.215747\n",
       "...                                      ...       ...         ...\n",
       "GPX_Lactococcus-lactis GSH    86   -2.265739  1.078870  305.293448\n",
       "                              87   -2.265240  0.995020  324.482972\n",
       "                              88   -2.242420  1.069546  330.534730\n",
       "                              89   -2.160199  0.552991  264.245197\n",
       "                              90   -2.146963  1.074284  301.537921\n",
       "\n",
       "[462 rows x 3 columns]"
      ]
     },
     "execution_count": 13,
     "metadata": {},
     "output_type": "execute_result"
    }
   ],
   "source": [
    "#Los datos del análisis de acoplamiento se almacenan como un Panda DF en el atributo .docking_data:\n",
    "\n",
    "models.docking_data"
   ]
  },
  {
   "cell_type": "code",
   "execution_count": 14,
   "id": "58220431-9ca4-4c58-9721-784a83d6772a",
   "metadata": {},
   "outputs": [],
   "source": [
    "#Selección de las mejores poses en función de la distáncia\n",
    "\n",
    "#Para facilitar la selección de poses según una distancia común, primero necesitamos agrupar las distancias bajo un nombre común (metric_distances) \n",
    "#en nuestro data frame. Podemos utilizar el método combineDockingDistancesIntoMetrics(), que reunirá todas las distancias en una lista y las \n",
    "#combinará tomando el mínimo de los valores de distancia. Para utilizar la función, necesitamos construir un diccionario triplemente \n",
    "#anidado que vaya de cada métrica, modelo y ligando y contenga como valores las listas (de cada modelo + ligando), que se combinarán bajo el \n",
    "#nombre métrico común\n",
    "\n",
    "metric_distances = {} # Define the global dictionary\n",
    "metric_distances['SG_S'] = {} # Define the metric nested dictionary\n",
    "for model in models:\n",
    "    metric_distances['SG_S'][model] = {} # Define the model nested dictionary\n",
    "    for ligand in models.docking_ligands[model]: \n",
    "        # Define the ligand nested dictionary with all the docking distances list\n",
    "        metric_distances['SG_S'][model][ligand] = models.getDockingDistances(model, ligand)"
   ]
  },
  {
   "cell_type": "code",
   "execution_count": 15,
   "id": "e08ed3bd-505c-4493-901a-974aaa6f65b7",
   "metadata": {},
   "outputs": [
    {
     "data": {
      "text/plain": [
       "{'SG_S': {'GPX_Bacillus-subtilis': {'GSH': ['A35SG-S1']},\n",
       "  'GPX_Gossypium-hirsutum': {'GSH': ['A43SG-S1']},\n",
       "  'GPX_Lactococcus-lactis': {'GSH': ['A35SG-S1']},\n",
       "  'GPX_Neisseria-meningitidis': {'GSH': ['A35SG-S1']},\n",
       "  'GPX_Staphylococcus-aureus': {'GSH': ['A36SG-S1']}}}"
      ]
     },
     "execution_count": 15,
     "metadata": {},
     "output_type": "execute_result"
    }
   ],
   "source": [
    "metric_distances"
   ]
  },
  {
   "cell_type": "code",
   "execution_count": 16,
   "id": "69f716e7-d904-4b30-8e9a-db0fd2e3e64b",
   "metadata": {},
   "outputs": [
    {
     "data": {
      "text/html": [
       "<div>\n",
       "<style scoped>\n",
       "    .dataframe tbody tr th:only-of-type {\n",
       "        vertical-align: middle;\n",
       "    }\n",
       "\n",
       "    .dataframe tbody tr th {\n",
       "        vertical-align: top;\n",
       "    }\n",
       "\n",
       "    .dataframe thead th {\n",
       "        text-align: right;\n",
       "    }\n",
       "</style>\n",
       "<table border=\"1\" class=\"dataframe\">\n",
       "  <thead>\n",
       "    <tr style=\"text-align: right;\">\n",
       "      <th></th>\n",
       "      <th></th>\n",
       "      <th></th>\n",
       "      <th>Score</th>\n",
       "      <th>RMSD</th>\n",
       "      <th>SASA</th>\n",
       "      <th>metric_SG_S</th>\n",
       "    </tr>\n",
       "    <tr>\n",
       "      <th>Protein</th>\n",
       "      <th>Ligand</th>\n",
       "      <th>Pose</th>\n",
       "      <th></th>\n",
       "      <th></th>\n",
       "      <th></th>\n",
       "      <th></th>\n",
       "    </tr>\n",
       "  </thead>\n",
       "  <tbody>\n",
       "    <tr>\n",
       "      <th rowspan=\"5\" valign=\"top\">GPX_Neisseria-meningitidis</th>\n",
       "      <th rowspan=\"5\" valign=\"top\">GSH</th>\n",
       "      <th>1</th>\n",
       "      <td>-6.083837</td>\n",
       "      <td>0.000000</td>\n",
       "      <td>130.161767</td>\n",
       "      <td>10.526809</td>\n",
       "    </tr>\n",
       "    <tr>\n",
       "      <th>2</th>\n",
       "      <td>-5.953054</td>\n",
       "      <td>0.256286</td>\n",
       "      <td>141.906320</td>\n",
       "      <td>10.374657</td>\n",
       "    </tr>\n",
       "    <tr>\n",
       "      <th>3</th>\n",
       "      <td>-5.883418</td>\n",
       "      <td>0.210167</td>\n",
       "      <td>153.180100</td>\n",
       "      <td>7.818727</td>\n",
       "    </tr>\n",
       "    <tr>\n",
       "      <th>4</th>\n",
       "      <td>-5.851441</td>\n",
       "      <td>0.191589</td>\n",
       "      <td>142.555926</td>\n",
       "      <td>9.637886</td>\n",
       "    </tr>\n",
       "    <tr>\n",
       "      <th>5</th>\n",
       "      <td>-5.817900</td>\n",
       "      <td>0.245980</td>\n",
       "      <td>141.886181</td>\n",
       "      <td>10.389298</td>\n",
       "    </tr>\n",
       "    <tr>\n",
       "      <th>...</th>\n",
       "      <th>...</th>\n",
       "      <th>...</th>\n",
       "      <td>...</td>\n",
       "      <td>...</td>\n",
       "      <td>...</td>\n",
       "      <td>...</td>\n",
       "    </tr>\n",
       "    <tr>\n",
       "      <th>GPX_Bacillus-subtilis</th>\n",
       "      <th>GSH</th>\n",
       "      <th>96</th>\n",
       "      <td>-2.148275</td>\n",
       "      <td>0.934625</td>\n",
       "      <td>315.261264</td>\n",
       "      <td>8.530943</td>\n",
       "    </tr>\n",
       "    <tr>\n",
       "      <th>GPX_Lactococcus-lactis</th>\n",
       "      <th>GSH</th>\n",
       "      <th>90</th>\n",
       "      <td>-2.146963</td>\n",
       "      <td>1.074284</td>\n",
       "      <td>301.537921</td>\n",
       "      <td>8.862319</td>\n",
       "    </tr>\n",
       "    <tr>\n",
       "      <th rowspan=\"3\" valign=\"top\">GPX_Bacillus-subtilis</th>\n",
       "      <th rowspan=\"3\" valign=\"top\">GSH</th>\n",
       "      <th>97</th>\n",
       "      <td>-2.041774</td>\n",
       "      <td>0.411558</td>\n",
       "      <td>324.177122</td>\n",
       "      <td>8.810896</td>\n",
       "    </tr>\n",
       "    <tr>\n",
       "      <th>98</th>\n",
       "      <td>-1.950524</td>\n",
       "      <td>0.932001</td>\n",
       "      <td>324.528757</td>\n",
       "      <td>9.392872</td>\n",
       "    </tr>\n",
       "    <tr>\n",
       "      <th>99</th>\n",
       "      <td>-1.913978</td>\n",
       "      <td>0.927105</td>\n",
       "      <td>325.017791</td>\n",
       "      <td>8.033066</td>\n",
       "    </tr>\n",
       "  </tbody>\n",
       "</table>\n",
       "<p>462 rows × 4 columns</p>\n",
       "</div>"
      ],
      "text/plain": [
       "                                           Score      RMSD        SASA  \\\n",
       "Protein                    Ligand Pose                                   \n",
       "GPX_Neisseria-meningitidis GSH    1    -6.083837  0.000000  130.161767   \n",
       "                                  2    -5.953054  0.256286  141.906320   \n",
       "                                  3    -5.883418  0.210167  153.180100   \n",
       "                                  4    -5.851441  0.191589  142.555926   \n",
       "                                  5    -5.817900  0.245980  141.886181   \n",
       "...                                          ...       ...         ...   \n",
       "GPX_Bacillus-subtilis      GSH    96   -2.148275  0.934625  315.261264   \n",
       "GPX_Lactococcus-lactis     GSH    90   -2.146963  1.074284  301.537921   \n",
       "GPX_Bacillus-subtilis      GSH    97   -2.041774  0.411558  324.177122   \n",
       "                                  98   -1.950524  0.932001  324.528757   \n",
       "                                  99   -1.913978  0.927105  325.017791   \n",
       "\n",
       "                                        metric_SG_S  \n",
       "Protein                    Ligand Pose               \n",
       "GPX_Neisseria-meningitidis GSH    1       10.526809  \n",
       "                                  2       10.374657  \n",
       "                                  3        7.818727  \n",
       "                                  4        9.637886  \n",
       "                                  5       10.389298  \n",
       "...                                             ...  \n",
       "GPX_Bacillus-subtilis      GSH    96       8.530943  \n",
       "GPX_Lactococcus-lactis     GSH    90       8.862319  \n",
       "GPX_Bacillus-subtilis      GSH    97       8.810896  \n",
       "                                  98       9.392872  \n",
       "                                  99       8.033066  \n",
       "\n",
       "[462 rows x 4 columns]"
      ]
     },
     "execution_count": 16,
     "metadata": {},
     "output_type": "execute_result"
    }
   ],
   "source": [
    "#Ahora le damos este diccionario al método combineDockingDistancesIntoMetrics() e inspeccionamos los cambios sobre nuestros datos de acoplamiento:\n",
    "\n",
    "models.combineDockingDistancesIntoMetrics(metric_distances)\n",
    "models.docking_data.sort_values(by=\"Score\")\n",
    "\n",
    "#Ahora que nuestro marco de datos de acoplamiento contiene una nueva columna con las distancias de acoplamiento agrupadas bajo el mismo nombre, \n",
    "#podemos utilizar esta información para extraer las mejores poses resultantes de cada ejecución de acoplamiento."
   ]
  },
  {
   "cell_type": "markdown",
   "id": "2ef9b9ad-3c91-4aee-9cd9-d4964180462b",
   "metadata": {},
   "source": [
    "### Cálculo de las mejores poses"
   ]
  },
  {
   "cell_type": "code",
   "execution_count": 17,
   "id": "1bad936b-1bf4-48e9-a6ff-578f57378644",
   "metadata": {},
   "outputs": [],
   "source": [
    "metrics = {\"metric_SG_S\": 7.0}"
   ]
  },
  {
   "cell_type": "code",
   "execution_count": 18,
   "id": "df387c60-f0e2-4aa5-afd6-b226076245f5",
   "metadata": {},
   "outputs": [],
   "source": [
    "#Esto puede conseguirse dando un valor umbral para obtener todas las poses catalíticas que cumplan un valor específico para la métrica común y \n",
    "#obteniendo las que tengan la mejor puntuación Glide. Sin embargo, no siempre ocurre que todas las ejecuciones de docking (es decir, para cada \n",
    "#combinación de proteína y ligando) produzcan distancias razonables. En este caso, muchos resultados de docking quedarían fuera si los umbrales de \n",
    "#distancia empleados fueran demasiado restrictivos. Una forma de solventar esto sería seleccionar un umbral de distancia pequeño, elegir los mejores \n",
    "#modelos que lo cumplieran y, a continuación, aumentar este umbral en una pequeña cantidad para reunir los mejores modelos que contengan distancias \n",
    "#métricas ligeramente grandes. Si repetimos esto de forma iterativa, podríamos obtener los mejores modelos posibles para todas las ejecuciones de \n",
    "#acoplamiento sin comprometer nuestra elección utilizando un umbral mayor para poses con valores métricos ya buenos.\n",
    "\n",
    "#Por suerte, este proceso se ha automatizado en la biblioteca para que la selección de acoplamiento pueda llevarse a cabo fácilmente:\n",
    "\n",
    "best_poses = models.getBestDockingPosesIteratively(metrics)"
   ]
  },
  {
   "cell_type": "code",
   "execution_count": 19,
   "id": "4a1c1f68-7739-4dcd-b434-cbcf0c209bed",
   "metadata": {},
   "outputs": [
    {
     "data": {
      "text/html": [
       "<div>\n",
       "<style scoped>\n",
       "    .dataframe tbody tr th:only-of-type {\n",
       "        vertical-align: middle;\n",
       "    }\n",
       "\n",
       "    .dataframe tbody tr th {\n",
       "        vertical-align: top;\n",
       "    }\n",
       "\n",
       "    .dataframe thead th {\n",
       "        text-align: right;\n",
       "    }\n",
       "</style>\n",
       "<table border=\"1\" class=\"dataframe\">\n",
       "  <thead>\n",
       "    <tr style=\"text-align: right;\">\n",
       "      <th></th>\n",
       "      <th></th>\n",
       "      <th></th>\n",
       "      <th>Score</th>\n",
       "      <th>RMSD</th>\n",
       "      <th>SASA</th>\n",
       "      <th>metric_SG_S</th>\n",
       "    </tr>\n",
       "    <tr>\n",
       "      <th>Protein</th>\n",
       "      <th>Ligand</th>\n",
       "      <th>Pose</th>\n",
       "      <th></th>\n",
       "      <th></th>\n",
       "      <th></th>\n",
       "      <th></th>\n",
       "    </tr>\n",
       "  </thead>\n",
       "  <tbody>\n",
       "    <tr>\n",
       "      <th>GPX_Bacillus-subtilis</th>\n",
       "      <th>GSH</th>\n",
       "      <th>55</th>\n",
       "      <td>-2.895438</td>\n",
       "      <td>1.039169</td>\n",
       "      <td>299.862573</td>\n",
       "      <td>6.922030</td>\n",
       "    </tr>\n",
       "    <tr>\n",
       "      <th>GPX_Lactococcus-lactis</th>\n",
       "      <th>GSH</th>\n",
       "      <th>12</th>\n",
       "      <td>-3.707507</td>\n",
       "      <td>0.620371</td>\n",
       "      <td>259.585338</td>\n",
       "      <td>5.623212</td>\n",
       "    </tr>\n",
       "    <tr>\n",
       "      <th>GPX_Neisseria-meningitidis</th>\n",
       "      <th>GSH</th>\n",
       "      <th>14</th>\n",
       "      <td>-4.665214</td>\n",
       "      <td>0.940950</td>\n",
       "      <td>169.363829</td>\n",
       "      <td>5.597698</td>\n",
       "    </tr>\n",
       "    <tr>\n",
       "      <th>GPX_Gossypium-hirsutum</th>\n",
       "      <th>GSH</th>\n",
       "      <th>6</th>\n",
       "      <td>-4.473044</td>\n",
       "      <td>0.166592</td>\n",
       "      <td>282.352973</td>\n",
       "      <td>7.373271</td>\n",
       "    </tr>\n",
       "    <tr>\n",
       "      <th>GPX_Staphylococcus-aureus</th>\n",
       "      <th>GSH</th>\n",
       "      <th>5</th>\n",
       "      <td>-4.011364</td>\n",
       "      <td>0.882702</td>\n",
       "      <td>261.516499</td>\n",
       "      <td>7.398505</td>\n",
       "    </tr>\n",
       "  </tbody>\n",
       "</table>\n",
       "</div>"
      ],
      "text/plain": [
       "                                           Score      RMSD        SASA  \\\n",
       "Protein                    Ligand Pose                                   \n",
       "GPX_Bacillus-subtilis      GSH    55   -2.895438  1.039169  299.862573   \n",
       "GPX_Lactococcus-lactis     GSH    12   -3.707507  0.620371  259.585338   \n",
       "GPX_Neisseria-meningitidis GSH    14   -4.665214  0.940950  169.363829   \n",
       "GPX_Gossypium-hirsutum     GSH    6    -4.473044  0.166592  282.352973   \n",
       "GPX_Staphylococcus-aureus  GSH    5    -4.011364  0.882702  261.516499   \n",
       "\n",
       "                                        metric_SG_S  \n",
       "Protein                    Ligand Pose               \n",
       "GPX_Bacillus-subtilis      GSH    55       6.922030  \n",
       "GPX_Lactococcus-lactis     GSH    12       5.623212  \n",
       "GPX_Neisseria-meningitidis GSH    14       5.597698  \n",
       "GPX_Gossypium-hirsutum     GSH    6        7.373271  \n",
       "GPX_Staphylococcus-aureus  GSH    5        7.398505  "
      ]
     },
     "execution_count": 19,
     "metadata": {},
     "output_type": "execute_result"
    }
   ],
   "source": [
    "best_poses\n",
    "\n",
    "#Para usar el método, tan solo debemos aportarle el diccionario con las métricas. El método define el proceso de iteración en base a los \n",
    "#siguientes keywords: min_threshold = 3.5, max_threshold = 5.0 y step_size = 0.1\n",
    "\n",
    "#Las mejores poses así seleccionadas se devuelven como  pandas DF y se utilizan para configurar el cálculo final de PELE."
   ]
  },
  {
   "cell_type": "markdown",
   "id": "b613c260-e5d8-4db8-b735-84962f3f2e1d",
   "metadata": {},
   "source": [
    "### Extracción mejores poses"
   ]
  },
  {
   "cell_type": "code",
   "execution_count": 20,
   "id": "e130daa4-4113-478f-8bef-08c5ee7a0d68",
   "metadata": {},
   "outputs": [
    {
     "name": "stdout",
     "output_type": "stream",
     "text": [
      "All models were already extracted!\n",
      "Set only_extract_new=False to extract them again!\n"
     ]
    }
   ],
   "source": [
    "#Podemos extraer un subconjunto de poses de docking dando un pandas DF filtrado al método extractDockingPoses(). \n",
    "#En nuestro caso, usamos el marco de datos 'best_poses' que contiene una pose por cada ejecución de docking.\n",
    "\n",
    "models.extractDockingPoses(best_poses, 'docking', 'best_poses', separator='@')\n",
    "\n",
    "#Las entradas son el marco de datos filtrado, la carpeta 'docking' y la carpeta donde almacenar las poses. Los nombres de los archivos se \n",
    "#darán como una combinación entre model_name+ligand+docking_pose y separados con el símbolo proporcionado en la palabra clave 'separator'. \n",
    "#Se emitirá una advertencia si el nombre de la proteína o del ligando contiene el separador en su nombre."
   ]
  },
  {
   "cell_type": "markdown",
   "id": "2369f02b-a40b-4f3e-9dc2-4a30b0a004bc",
   "metadata": {},
   "source": [
    "### PELE"
   ]
  },
  {
   "cell_type": "code",
   "execution_count": null,
   "id": "164bf8da-b560-4236-912c-7b3e5f45b0df",
   "metadata": {},
   "outputs": [],
   "source": []
  },
  {
   "cell_type": "code",
   "execution_count": 21,
   "id": "a541f497-b7b6-46cb-a987-506fccb357d3",
   "metadata": {},
   "outputs": [],
   "source": [
    "#Una vez extraídas las poses de acoplamiento, el último paso es configurar las carpetas de cálculo PELE, los archivos y los scripts slurm. \n",
    "#El método necesita la carpeta donde almacenar la información de cálculo ('pele'), la carpeta que contiene las poses de docking ('best_poses'), \n",
    "#y un archivo YAML de entrada que contenga los detalles del protocolo de la plataforma PELE. También damos a nuestro diccionario atom_pairs para \n",
    "#calcular las mismas distancias empleadas en nuestro análisis de docking, por lo que se calculan a lo largo de la simulación PELE.\n",
    "\n",
    "#Dado que el índice de ligando en nuestras poses de docking es cero, cambiamos el índice de ligando por defecto (1) con la palabra clave \n",
    "#ligand_index. Por último, como cambiamos el separador al escribir las poses de docking, tenemos que hacer que el método setUpPELECalculation() \n",
    "#sea consciente utilizando de nuevo la palabra clave 'separator'.\n",
    "\n",
    "jobs = models.setUpPELECalculation('pele', 'best_poses/', 'input.yaml', distances=atom_pairs, ligand_index=1, separator='@')\n",
    "\n",
    "#Los comandos generados por este método son ligeramente diferentes a los de otras funciones. Sin embargo, pueden procesarse rápidamente empleando ç\n",
    "#el método setUpPELEForMarenostrum() dentro de la biblioteca bsc_calculations.\n",
    "\n",
    "bsc_calculations.nord3.setUpPELEForNord3(jobs)"
   ]
  },
  {
   "cell_type": "code",
   "execution_count": 4,
   "id": "0bf0400e-6049-4910-af08-328f7bea2e2b",
   "metadata": {},
   "outputs": [
    {
     "name": "stdout",
     "output_type": "stream",
     "text": [
      "GPX_Lactococcus-lactis@GSH\n",
      "GPX_Staphylococcus-aureus@GSH\n",
      "GPX_Gossypium-hirsutum@GSH\n",
      "GPX_Bacillus-subtilis@GSH\n",
      "GPX_Neisseria-meningitidis@GSH\n",
      "Setting Chain IDs and Atom Indexes\n"
     ]
    }
   ],
   "source": [
    "pele_an = pele_analysis.peleAnalysis(pele_folder=\"pele\")"
   ]
  },
  {
   "cell_type": "code",
   "execution_count": 5,
   "id": "61811395-dfa5-47b9-adf8-2a867bc52ef6",
   "metadata": {},
   "outputs": [
    {
     "data": {
      "application/vnd.jupyter.widget-view+json": {
       "model_id": "6b50fabd463a4c4085f8837d2c3316ec",
       "version_major": 2,
       "version_minor": 0
      },
      "text/plain": [
       "interactive(children=(Dropdown(description='Protein', options=('GPX_Bacillus', 'GPX_Gossypium', 'GPX_Lactococc…"
      ]
     },
     "metadata": {},
     "output_type": "display_data"
    }
   ],
   "source": [
    "pele_an.bindingEnergyLandscape()"
   ]
  },
  {
   "cell_type": "code",
   "execution_count": null,
   "id": "5880b94f-aaf6-48be-ae67-fc070ef07f2b",
   "metadata": {},
   "outputs": [],
   "source": []
  }
 ],
 "metadata": {
  "kernelspec": {
   "display_name": "Python 3 (ipykernel)",
   "language": "python",
   "name": "python3"
  },
  "language_info": {
   "codemirror_mode": {
    "name": "ipython",
    "version": 3
   },
   "file_extension": ".py",
   "mimetype": "text/x-python",
   "name": "python",
   "nbconvert_exporter": "python",
   "pygments_lexer": "ipython3",
   "version": "3.10.15"
  }
 },
 "nbformat": 4,
 "nbformat_minor": 5
}
