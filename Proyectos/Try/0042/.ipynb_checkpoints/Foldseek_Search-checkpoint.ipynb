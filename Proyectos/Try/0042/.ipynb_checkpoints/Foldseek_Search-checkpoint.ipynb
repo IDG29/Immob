{
 "cells": [
  {
   "cell_type": "code",
   "execution_count": 1,
   "id": "43771ca8-c205-435a-9f17-cb2ed217809b",
   "metadata": {},
   "outputs": [],
   "source": [
    "from bioprospecting import structural_search\n",
    "from bioprospecting import alignment\n",
    "from bioprospecting import PDB \n",
    "import os\n",
    "import shutil\n",
    "import glob\n",
    "import pandas as pd\n",
    "from Bio import PDB as pdb\n"
   ]
  },
  {
   "cell_type": "code",
   "execution_count": 4,
   "id": "d6783083-442a-4964-a27e-84acb03d92bd",
   "metadata": {},
   "outputs": [
    {
     "name": "stdout",
     "output_type": "stream",
     "text": [
      "Accediendo a directorio /home/ivan/BSC/Immob/Proyectos/CBMs/CAZY/all_cbm_clusters/0042_P01683.\n",
      "El archivo P01618.pdb ha sido movido al directorio de trabajo.\n"
     ]
    }
   ],
   "source": [
    "folder = os.getcwd()\n",
    "\n",
    "cluster_srch = folder.split(\"/\")[-1]\n",
    "path = f\"/home/ivan/BSC/Immob/Proyectos/CBMs/CAZY/all_cbm_clusters/{cluster_srch}_*\"\n",
    "\n",
    "matching_folders = glob.glob(path)\n",
    "\n",
    "if matching_folders:\n",
    "    target = matching_folders[0]\n",
    "    sorted_files = sorted(os.listdir(target))\n",
    "    my_file = sorted_files[0]\n",
    "\n",
    "    print(f\"Accediendo a directorio {target}.\")\n",
    "    pdb_path = os.path.join(target, my_file)\n",
    "    \n",
    "    shutil.copy(pdb_path, folder)\n",
    "    print(f\"El archivo {my_file} ha sido movido al directorio de trabajo.\")\n",
    "    new_path = os.path.join(folder, my_file)   "
   ]
  },
  {
   "cell_type": "code",
   "execution_count": 17,
   "id": "d865abda-36ea-4bc1-8266-a4dbc823b093",
   "metadata": {},
   "outputs": [
    {
     "name": "stdout",
     "output_type": "stream",
     "text": [
      "Output folder has been generated. Execute command.sh to run foldseek.\n"
     ]
    }
   ],
   "source": [
    "FS_search = structural_search.foldseek.runEasySearch(target_pdb=new_path, output_folder=\"FoldSeek_Search\", db=\"/home/bubbles/foldseek_databases/afsp\", max_seqs=1000000, format_output=['query','target','qcov','tcov','fident','alnlen','mismatch','gapopen','evalue','qseq','tseq'], overwrite=True)"
   ]
  },
  {
   "cell_type": "code",
   "execution_count": 51,
   "id": "5b753d99-6fc5-478b-ae99-dbc8a2d32c06",
   "metadata": {},
   "outputs": [
    {
     "name": "stdout",
     "output_type": "stream",
     "text": [
      "La mínima cobertura de la query es del 75.9%\n",
      "La mínima cobertura del objetivo es del 11.8%\n"
     ]
    }
   ],
   "source": [
    "path = \"/home/ivan/BSC/Immob/Proyectos/Try/0042/FoldSeek_Search/fs_output_PDB_qcov_tcov\"\n",
    "\n",
    "pdb_id = pd.read_csv(path, sep = \"\\t\")\n",
    "\n",
    "pdb_id.columns=['query','target','qcov','tcov','fident','alnlen','mismatch','gapopen','evalue','qseq','tseq']\n",
    "\n",
    "print(f\"La mínima cobertura de la query es del {round((pdb_id['qcov'].min())*100, 2)}%\")\n",
    "print(f\"La mínima cobertura del objetivo es del {round((pdb_id['tcov'].min())*100, 2)}%\")"
   ]
  },
  {
   "cell_type": "code",
   "execution_count": 52,
   "id": "e453bce1-4a57-4be4-9837-b5d3d79161c6",
   "metadata": {},
   "outputs": [],
   "source": [
    "#Dicionario con PDB_ID, Cadena de interés y secuencia.\n",
    "pdb_dic = {}\n",
    "pdb_list = []\n",
    "for ident in pdb_id[\"target\"]:\n",
    "    pdb_dic[ident]={}\n",
    "    chain = (ident[-1])\n",
    "    for seq in pdb_id.loc[pdb_id[\"target\"]==ident][\"tseq\"]:\n",
    "        if chain.isalpha():\n",
    "            pdb_dic[ident][chain]=seq\n",
    "        else:\n",
    "            pdb_dic[ident]=seq\n",
    "\n",
    "#Lista tan solo de los PDB_ID\n",
    "for PDB_ident in pdb_dic:\n",
    "    pdb_list.append((PDB_ident[:4]).upper())\n",
    "    "
   ]
  },
  {
   "cell_type": "code",
   "execution_count": null,
   "id": "6d573f2f-62ab-4a11-8d70-259dc74b3418",
   "metadata": {},
   "outputs": [],
   "source": [
    "#Descargar PDBs\n",
    "Dwnld_PDBS = PDB.retrievePDBs(pdb_list, pdb_directory=\"PDB\")"
   ]
  },
  {
   "cell_type": "code",
   "execution_count": null,
   "id": "6296fe3c-70d2-47d4-b087-7ae2bb0c6c92",
   "metadata": {},
   "outputs": [],
   "source": [
    "#Obtener tan solo las cadenas deseadas. En caso de extraer las estructuras de la base de datos PDB.\n",
    "PDB_fold = \"/home/ivan/BSC/Immob/Proyectos/Try/0042/PDB\"\n",
    "\n",
    "if not os.path.exists(PDB_fold+\"/PDB_Chain_Select\"):\n",
    "    os.mkdir(PDB_fold+\"/PDB_Chain_Select\")\n",
    "\n",
    "parser = pdb.PDBParser(QUIET=True)\n",
    "\n",
    "for PDBB in os.listdir(PDB_fold):\n",
    "    if PDBB.endswith(\".pdb\"):\n",
    "        for key in pdb_dic:\n",
    "            if (PDBB.split(\".\")[0]).lower() in key:                \n",
    "                structure = parser.get_structure(PDBB, os.path.join(PDB_fold, PDBB))\n",
    "                chain_id = (key.split(\".\")[0]).split(\"_\")[-1]\n",
    "                for model in structure:\n",
    "                    for chain in model:\n",
    "                        if chain.id == chain_id:\n",
    "                            new_structure = PDB.chainsAsStructure(chain)\n",
    "                            PDB.saveStructureToPDB(new_structure, output=f\"{PDB_fold}/PDB_Chain_Select/{PDBB.split('.')[0]}_{chain_id}.pdb\")"
   ]
  },
  {
   "cell_type": "code",
   "execution_count": null,
   "id": "d5a1d0b9-58c9-431d-9dda-ea441ac1efec",
   "metadata": {},
   "outputs": [],
   "source": [
    "alignment.foldseek.structuralClustering(job_folder=\"Clustering_Folder\", models_folder=\"/home/ivan/BSC/Immob/Proyectos/Try/0042/PDB/PDB_Chain_Select/\")"
   ]
  },
  {
   "cell_type": "code",
   "execution_count": null,
   "id": "84169812-0680-4016-93ba-5a9a35a3f478",
   "metadata": {},
   "outputs": [],
   "source": []
  }
 ],
 "metadata": {
  "kernelspec": {
   "display_name": "Python 3 (ipykernel)",
   "language": "python",
   "name": "python3"
  },
  "language_info": {
   "codemirror_mode": {
    "name": "ipython",
    "version": 3
   },
   "file_extension": ".py",
   "mimetype": "text/x-python",
   "name": "python",
   "nbconvert_exporter": "python",
   "pygments_lexer": "ipython3",
   "version": "3.10.15"
  }
 },
 "nbformat": 4,
 "nbformat_minor": 5
}
