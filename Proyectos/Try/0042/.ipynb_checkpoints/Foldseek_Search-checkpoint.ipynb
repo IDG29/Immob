{
 "cells": [
  {
   "cell_type": "code",
   "execution_count": 1,
   "id": "43771ca8-c205-435a-9f17-cb2ed217809b",
   "metadata": {},
   "outputs": [],
   "source": [
    "from bioprospecting import structural_search\n",
    "from bioprospecting import alignment\n",
    "from bioprospecting import PDB \n",
    "import os\n",
    "import shutil\n",
    "import glob\n",
    "import pandas as pd\n",
    "from Bio import PDB as pdb\n"
   ]
  },
  {
   "cell_type": "code",
   "execution_count": 3,
   "id": "756e13ca-3269-401a-a235-fe89297d9c4f",
   "metadata": {},
   "outputs": [
    {
     "data": {
      "text/plain": [
       "'/home/ivan/BSC/Immob/Proyectos/Try/0042'"
      ]
     },
     "execution_count": 3,
     "metadata": {},
     "output_type": "execute_result"
    }
   ],
   "source": [
    "pwd"
   ]
  },
  {
   "cell_type": "code",
   "execution_count": 17,
   "id": "d6783083-442a-4964-a27e-84acb03d92bd",
   "metadata": {},
   "outputs": [],
   "source": [
    "folder = os.getcwd()\n",
    "\n",
    "cluster_srch = folder.split(\"/\")[-1]\n",
    "path = f\"/home/ivan/BSC/Immob/Proyectos/CBMs/CAZY/all_cbm_clusters/{cluster_srch}_*\"\n",
    "\n",
    "matching_folders = glob.glob(path)\n",
    "\n",
    "if matching_folders:\n",
    "    target = matching_folders[0]\n",
    "    sorted_files = sorted(os.listdir(target))\n",
    "    my_file = sorted_files[0]\n",
    "\n",
    "    print(f\"Accediendo a directorio {target}.\")\n",
    "    pdb_path = os.path.join(target, my_file)\n",
    "    \n",
    "    shutil.copy(pdb_path, folder)\n",
    "    print(f\"El archivo {my_file} ha sido movido al directorio de trabajo.\")\n",
    "    new_path = os.path.join(folder, my_file)   "
   ]
  },
  {
   "cell_type": "code",
   "execution_count": 18,
   "id": "d865abda-36ea-4bc1-8266-a4dbc823b093",
   "metadata": {},
   "outputs": [
    {
     "ename": "NameError",
     "evalue": "name 'new_path' is not defined",
     "output_type": "error",
     "traceback": [
      "\u001b[0;31m---------------------------------------------------------------------------\u001b[0m",
      "\u001b[0;31mNameError\u001b[0m                                 Traceback (most recent call last)",
      "Cell \u001b[0;32mIn[18], line 1\u001b[0m\n\u001b[0;32m----> 1\u001b[0m FS_search \u001b[38;5;241m=\u001b[39m structural_search\u001b[38;5;241m.\u001b[39mfoldseek\u001b[38;5;241m.\u001b[39mrunEasySearch(target_pdb\u001b[38;5;241m=\u001b[39m\u001b[43mnew_path\u001b[49m, output_folder\u001b[38;5;241m=\u001b[39m\u001b[38;5;124m\"\u001b[39m\u001b[38;5;124mFoldSeek_Search\u001b[39m\u001b[38;5;124m\"\u001b[39m, db\u001b[38;5;241m=\u001b[39m\u001b[38;5;124m\"\u001b[39m\u001b[38;5;124m/home/bubbles/foldseek_databases/pdb\u001b[39m\u001b[38;5;124m\"\u001b[39m)\n",
      "\u001b[0;31mNameError\u001b[0m: name 'new_path' is not defined"
     ]
    }
   ],
   "source": [
    "FS_search = structural_search.foldseek.runEasySearch(target_pdb=new_path, output_folder=\"FoldSeek_Search\", db=\"/home/bubbles/foldseek_databases/pdb\")"
   ]
  },
  {
   "cell_type": "code",
   "execution_count": 4,
   "id": "5b753d99-6fc5-478b-ae99-dbc8a2d32c06",
   "metadata": {},
   "outputs": [],
   "source": [
    "path = \"/home/ivan/BSC/Immob/Proyectos/Try/0042/FoldSeek_Search/fs_output.txt\"\n",
    "\n",
    "pdb_id = pd.read_csv(path, sep = \"\\t\")\n",
    "\n",
    "pdb_id.columns=[\"OG_Structure\", \"PDB_id\", \"C1\", \"C2\", \"C3\", \"C4\", \"C5\", \"OG_Seq\", \"Sim_Seq\"]"
   ]
  },
  {
   "cell_type": "code",
   "execution_count": 5,
   "id": "e453bce1-4a57-4be4-9837-b5d3d79161c6",
   "metadata": {},
   "outputs": [],
   "source": [
    "#Dicionario con PDB_ID, Cadena de interés y secuencia.\n",
    "pdb_dic = {}\n",
    "pdb_list = []\n",
    "for ident in pdb_id[\"PDB_id\"]:\n",
    "    chain = (ident[-1])\n",
    "    pdb_dic[ident]={}\n",
    "    for seq in pdb_id.loc[pdb_id[\"PDB_id\"]==ident][\"Sim_Seq\"]:\n",
    "        pdb_dic[ident][chain]=seq\n",
    "\n",
    "#Lista tan solo de los PDB_ID\n",
    "for PDB_ident in pdb_dic:\n",
    "    pdb_list.append((PDB_ident[:4]).upper())\n",
    "    "
   ]
  },
  {
   "cell_type": "code",
   "execution_count": null,
   "id": "6d573f2f-62ab-4a11-8d70-259dc74b3418",
   "metadata": {},
   "outputs": [],
   "source": [
    "#Descargar PDBs\n",
    "Dwnld_PDBS = PDB.retrievePDBs(pdb_list)"
   ]
  },
  {
   "cell_type": "code",
   "execution_count": 11,
   "id": "6296fe3c-70d2-47d4-b087-7ae2bb0c6c92",
   "metadata": {},
   "outputs": [],
   "source": [
    "#Obtener tan solo las cadenas deseadas\n",
    "PDB_fold = \"/home/ivan/BSC/Immob/Proyectos/Try/0042/PDB\"\n",
    "\n",
    "if not os.path.exists(PDB_fold+\"/PDB_Chain_Select\"):\n",
    "    os.mkdir(PDB_fold+\"/PDB_Chain_Select\")\n",
    "\n",
    "parser = pdb.PDBParser(QUIET=True)\n",
    "for PDBB in os.listdir(PDB_fold):\n",
    "    if PDBB.endswith(\".pdb\"):\n",
    "        for key in pdb_dic:\n",
    "            if (PDBB.split(\".\")[0]).lower() in key:                \n",
    "                structure = parser.get_structure(PDBB, os.path.join(PDB_fold, PDBB))\n",
    "                chain_id = (key.split(\".\")[0]).split(\"_\")[-1]\n",
    "                for model in structure:\n",
    "                    for chain in model:\n",
    "                        if chain.id == chain_id:\n",
    "                            new_structure = PDB.chainsAsStructure(chain)\n",
    "                            PDB.saveStructureToPDB(new_structure, output=f\"{PDB_fold}/PDB_Chain_Select/{PDBB.split('.')[0]}_{chain_id}.pdb\")\n"
   ]
  },
  {
   "cell_type": "code",
   "execution_count": null,
   "id": "d5a1d0b9-58c9-431d-9dda-ea441ac1efec",
   "metadata": {},
   "outputs": [],
   "source": [
    "PDB_fold = \"/home/ivan/BSC/Immob/Proyectos/Try/0042/PDB\"\n",
    "Clustering = alignment.foldseek.structuralClustering(job_folder=\"Clustering_Fold\", models_folder=PDB_fold)\n"
   ]
  }
 ],
 "metadata": {
  "kernelspec": {
   "display_name": "Python 3 (ipykernel)",
   "language": "python",
   "name": "python3"
  },
  "language_info": {
   "codemirror_mode": {
    "name": "ipython",
    "version": 3
   },
   "file_extension": ".py",
   "mimetype": "text/x-python",
   "name": "python",
   "nbconvert_exporter": "python",
   "pygments_lexer": "ipython3",
   "version": "3.10.15"
  }
 },
 "nbformat": 4,
 "nbformat_minor": 5
}
