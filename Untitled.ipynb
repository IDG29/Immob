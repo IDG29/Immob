{
 "cells": [
  {
   "cell_type": "code",
   "execution_count": 6,
   "id": "a56b4246-e2c4-4059-a894-b5add3f83d46",
   "metadata": {},
   "outputs": [],
   "source": [
    "from Bio.PDB import PDBParser\n",
    "import os\n",
    "import mdtraj as md"
   ]
  },
  {
   "cell_type": "code",
   "execution_count": 4,
   "id": "abf85de3-ce1a-44ff-9c65-0c6b8d7ec739",
   "metadata": {},
   "outputs": [],
   "source": [
    "parser = PDBParser(QUIET=True)"
   ]
  },
  {
   "cell_type": "code",
   "execution_count": 8,
   "id": "63bbce86-3deb-40fc-b82d-2612cf16454a",
   "metadata": {},
   "outputs": [
    {
     "name": "stdout",
     "output_type": "stream",
     "text": [
      "Número de átomos cargados por MDTraj: 2514\n",
      "Número de átomos cargados por MDTraj: 2537\n",
      "Número de átomos cargados por MDTraj: 2801\n",
      "Número de átomos cargados por MDTraj: 2515\n",
      "Número de átomos cargados por MDTraj: 2546\n",
      "Estructura 1: 2514 átomos\n",
      "Estructura 2: 2537 átomos\n",
      "Estructura 3: 2801 átomos\n",
      "Estructura 4: 2515 átomos\n",
      "Estructura 5: 2546 átomos\n"
     ]
    }
   ],
   "source": [
    "n_atoms = []\n",
    "n = 1  # Contador para asignar identificadores únicos\n",
    "\n",
    "# Iterar sobre todos los archivos en el directorio 'trimmed_models/'\n",
    "for structure in os.listdir(\"trimmed_models/\"):\n",
    "    if structure.endswith(\".pdb\"):  # Procesar solo archivos .pdb\n",
    "        # Crear la ruta completa usando os.path.join\n",
    "        file_path = os.path.join(\"trimmed_models\", structure)\n",
    "        \n",
    "        # Analizar la estructura PDB usando la instancia del parser\n",
    "        structure_analysis = parser.get_structure(id=str(n) + \"_\" + structure, file=file_path)\n",
    "       \n",
    "        # Contar el número de átomos en la estructura\n",
    "        atom_count = sum(1 for atom in structure_analysis.get_atoms())\n",
    "        \n",
    "        traj = md.load(file_path)\n",
    "        print(\"Número de átomos cargados por MDTraj:\", traj.n_atoms)\n",
    "        \n",
    "        # Agregar el conteo a la lista\n",
    "        n_atoms.append(atom_count)\n",
    "        \n",
    "        # Incrementar el contador\n",
    "        n += 1\n",
    "\n",
    "# Imprimir los resultados\n",
    "for idx, count in enumerate(n_atoms):\n",
    "    print(f\"Estructura {idx + 1}: {count} átomos\")"
   ]
  },
  {
   "cell_type": "code",
   "execution_count": null,
   "id": "0f892183-d9f7-493c-98bf-4dc10d4c5918",
   "metadata": {},
   "outputs": [],
   "source": []
  }
 ],
 "metadata": {
  "kernelspec": {
   "display_name": "Python 3 (ipykernel)",
   "language": "python",
   "name": "python3"
  },
  "language_info": {
   "codemirror_mode": {
    "name": "ipython",
    "version": 3
   },
   "file_extension": ".py",
   "mimetype": "text/x-python",
   "name": "python",
   "nbconvert_exporter": "python",
   "pygments_lexer": "ipython3",
   "version": "3.10.15"
  }
 },
 "nbformat": 4,
 "nbformat_minor": 5
}
